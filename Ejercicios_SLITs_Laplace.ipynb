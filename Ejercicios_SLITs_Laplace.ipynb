{
  "nbformat": 4,
  "nbformat_minor": 0,
  "metadata": {
    "colab": {
      "provenance": [],
      "include_colab_link": true
    },
    "kernelspec": {
      "name": "python3",
      "display_name": "Python 3"
    },
    "language_info": {
      "name": "python"
    }
  },
  "cells": [
    {
      "cell_type": "markdown",
      "metadata": {
        "id": "view-in-github",
        "colab_type": "text"
      },
      "source": [
        "<a href=\"https://colab.research.google.com/github/JParraArias/SignalsAndSystems2024-2/blob/main/Ejercicios_SLITs_Laplace.ipynb\" target=\"_parent\"><img src=\"https://colab.research.google.com/assets/colab-badge.svg\" alt=\"Open In Colab\"/></a>"
      ]
    },
    {
      "cell_type": "markdown",
      "source": [
        "#1.  sistema masa, resorte y amortiguador:"
      ],
      "metadata": {
        "id": "8nJ5rZq1QoRL"
      }
    },
    {
      "cell_type": "markdown",
      "source": [
        "\\begin{equation}\n",
        "F_\\text{S}(t) + F_\\text{F}(t) + F_\\text{I}(t) = F_\\text{E}(t)\n",
        "\\end{equation}"
      ],
      "metadata": {
        "id": "f0URHlwuPNgL"
      }
    },
    {
      "cell_type": "markdown",
      "source": [
        "\\begin{equation}\n",
        "F_\\text{S}(t) = k y(t)\n",
        "\\end{equation}"
      ],
      "metadata": {
        "id": "zob8IJCwQYrc"
      }
    },
    {
      "cell_type": "markdown",
      "source": [
        "\\begin{equation}\n",
        "F_\\text{F}(t) = c \\frac{d y(t)}{dt}\n",
        "\\end{equation}"
      ],
      "metadata": {
        "id": "t5kYQp5nQZXD"
      }
    },
    {
      "cell_type": "markdown",
      "source": [
        "\\begin{equation}\n",
        "F_\\text{I}(t) = m \\frac{d^2 y(t)}{dt^2}\n",
        "\\end{equation}"
      ],
      "metadata": {
        "id": "pdFYPanQQeWS"
      }
    },
    {
      "cell_type": "markdown",
      "source": [
        "\\begin{equation}\n",
        "m \\frac{d^2 y(t)}{dt^2} + c \\frac{d y(t)}{dt} + k y(t) = F_\\text{E}(t)\n",
        "\\end{equation}"
      ],
      "metadata": {
        "id": "UUHQYJ4ZQgP0"
      }
    },
    {
      "cell_type": "markdown",
      "source": [
        "Ahora aplicando transformada de Laplace:"
      ],
      "metadata": {
        "id": "GxLORzQpQsI6"
      }
    },
    {
      "cell_type": "markdown",
      "source": [
        "$\n",
        "\\mathcal{L} \\left\\{ \\frac{d^n y(t)}{dt^2} \\right\\} = s^n X(s)$"
      ],
      "metadata": {
        "id": "Nz8X-BEeTPQS"
      }
    },
    {
      "cell_type": "markdown",
      "source": [
        "$m s^2 Y(s) + c s Y(s) + kY(s)=X(s)$"
      ],
      "metadata": {
        "id": "rcxpzFQ7SZil"
      }
    },
    {
      "cell_type": "markdown",
      "source": [
        "$\n",
        "H(s) = \\frac{Y(s)}{X(s)} = \\frac{1}{m s^2 + c s + k}\n",
        "$\n",
        "\n",
        "\n",
        "\n"
      ],
      "metadata": {
        "id": "3iD2b4UAVLcc"
      }
    },
    {
      "cell_type": "markdown",
      "source": [
        "#2. Circuito electrtico:"
      ],
      "metadata": {
        "id": "h5ELEAT5XWAK"
      }
    },
    {
      "cell_type": "markdown",
      "source": [
        "$\n",
        "V_i(s) = L s I_1(s) +(I_1(s)-I_2(s)) \\frac{1}{C s}\n",
        "$"
      ],
      "metadata": {
        "id": "oLOGvreaYDk2"
      }
    },
    {
      "cell_type": "markdown",
      "source": [
        "$\n",
        "(I_2(s)-I_1(s)) \\frac{1}{C s}+I_2(s)R=0\n",
        "$"
      ],
      "metadata": {
        "id": "QvKLWX3_ZhGc"
      }
    },
    {
      "cell_type": "markdown",
      "source": [
        "$V_o(s)=RI_2(s)$"
      ],
      "metadata": {
        "id": "e7VpYtoMakTM"
      }
    },
    {
      "cell_type": "markdown",
      "source": [
        "Despejando $I_1$ en $I_2$:"
      ],
      "metadata": {
        "id": "KS_U8MU5a-3E"
      }
    },
    {
      "cell_type": "markdown",
      "source": [
        "$\n",
        "\\frac{1}{C s}I_2(s)-\\frac{1}{C s}I_1(s) +I_2(s)R=0\n",
        "$"
      ],
      "metadata": {
        "id": "haMl0fWEbJuM"
      }
    },
    {
      "cell_type": "markdown",
      "source": [
        "$I_1(s)=I_2(s)(1+CRs)$"
      ],
      "metadata": {
        "id": "NOJt4KPIbhaE"
      }
    },
    {
      "cell_type": "markdown",
      "source": [
        "Se reemplaza en la primera ecuacion:"
      ],
      "metadata": {
        "id": "dZfmj_V6buuU"
      }
    },
    {
      "cell_type": "markdown",
      "source": [
        "$V_i(s)=LsI_2(s)(1+CRs)+(I_2(s)(1+CRs)-I_2(s))\\frac{1}{C s}$"
      ],
      "metadata": {
        "id": "KMF5nggQb98q"
      }
    },
    {
      "cell_type": "markdown",
      "source": [
        "$V_i(s)=LsI_2(s)+CRLs^2I_2(s)+I_2(s)\\frac{1}{C s}+I_2(s)R-I_2(s)\\frac{1}{C s}$"
      ],
      "metadata": {
        "id": "mVcjhyifcp9b"
      }
    },
    {
      "cell_type": "markdown",
      "source": [
        "$V_i(s)=I_2(s)(CRLs^2+Ls+R)$"
      ],
      "metadata": {
        "id": "nSVVncgPdTvD"
      }
    },
    {
      "cell_type": "markdown",
      "source": [
        "$\\frac{I_2(s)}{V_i(s)}=\\frac{1}{CRLs^2+Ls+R}$"
      ],
      "metadata": {
        "id": "kMe3Wy7Sdt7M"
      }
    },
    {
      "cell_type": "markdown",
      "source": [
        "$\\frac{RI_2(s)}{Vi(s)}=\\frac{V_o(s)}{V_i(s)}=\\frac{R}{CRLs^2+Ls+R}$"
      ],
      "metadata": {
        "id": "jWKcQHwweDSo"
      }
    },
    {
      "cell_type": "markdown",
      "source": [
        "$H(s)=\\frac{V_o(s)}{V_i(s)}=\\frac{1}{CRLs^2+\\frac{L}{R} s+1}$"
      ],
      "metadata": {
        "id": "FPQX40gtea8T"
      }
    }
  ]
}