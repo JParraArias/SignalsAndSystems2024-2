{
  "nbformat": 4,
  "nbformat_minor": 0,
  "metadata": {
    "colab": {
      "provenance": [],
      "include_colab_link": true
    },
    "kernelspec": {
      "name": "python3",
      "display_name": "Python 3"
    },
    "language_info": {
      "name": "python"
    }
  },
  "cells": [
    {
      "cell_type": "markdown",
      "metadata": {
        "id": "view-in-github",
        "colab_type": "text"
      },
      "source": [
        "<a href=\"https://colab.research.google.com/github/JParraArias/SignalsAndSystems2024-2/blob/main/Dashboard_2S2.ipynb\" target=\"_parent\"><img src=\"https://colab.research.google.com/assets/colab-badge.svg\" alt=\"Open In Colab\"/></a>"
      ]
    },
    {
      "cell_type": "markdown",
      "source": [
        "#PUNTO 2"
      ],
      "metadata": {
        "id": "arJTqCqjKirM"
      }
    },
    {
      "cell_type": "markdown",
      "source": [
        "El siguiente bloque de código instala varias bibliotecas necesarias para el proyecto:\n",
        "\n",
        "- **`streamlit`**: Framework para crear aplicaciones web interactivas en Python.\n",
        "- **`localtunnel`** (vía `npm`): Permite exponer un puerto local a la web.\n",
        "- **`yt-dlp`**: Herramienta avanzada para descargar videos de YouTube y otras plataformas.\n",
        "- **`pyngrok`**: Facilita la creación de túneles seguros con `ngrok`, útil para exponer servicios locales.\n",
        "- **`sympy`**: Biblioteca para cálculos simbólicos en matemáticas.\n",
        "- **`soundfile`**: Permite leer y escribir archivos de audio en distintos formatos.\n",
        "- **`pytube`**: Otra biblioteca para descargar videos de YouTube.\n",
        "- **`ffmpeg`**: Software para procesamiento y conversión de archivos de audio y video.\n",
        "- **`pandas, gspread, oauth2client`**: Facilitan la manipulación de datos y la conexión con Google Sheets.\n",
        "- **`numpy, matplotlib, scipy`**: Librerías científicas para análisis numérico y visualización.\n",
        "\n",
        "Se reinstala `yt-dlp` desde su repositorio de GitHub para asegurar la versión más reciente.\n",
        "Finalmente, se instalan todas las bibliotecas necesarias en una única línea para evitar posibles conflictos de dependencias."
      ],
      "metadata": {
        "id": "H7VL7qAfMGzz"
      }
    },
    {
      "cell_type": "code",
      "execution_count": 13,
      "metadata": {
        "colab": {
          "base_uri": "https://localhost:8080/"
        },
        "id": "ub3eTBXmKFG5",
        "outputId": "57f893b2-267a-4843-ef66-656e9ecf4400"
      },
      "outputs": [
        {
          "output_type": "stream",
          "name": "stdout",
          "text": [
            "\u001b[1G\u001b[0K⠙\u001b[1G\u001b[0K⠹\u001b[1G\u001b[0K⠸\u001b[1G\u001b[0K⠼\u001b[1G\u001b[0K\n",
            "up to date, audited 23 packages in 641ms\n",
            "\u001b[1G\u001b[0K⠼\u001b[1G\u001b[0K\n",
            "\u001b[1G\u001b[0K⠼\u001b[1G\u001b[0K3 packages are looking for funding\n",
            "\u001b[1G\u001b[0K⠼\u001b[1G\u001b[0K  run `npm fund` for details\n",
            "\u001b[1G\u001b[0K⠼\u001b[1G\u001b[0K\n",
            "2 \u001b[33m\u001b[1mmoderate\u001b[22m\u001b[39m severity vulnerabilities\n",
            "\n",
            "To address all issues (including breaking changes), run:\n",
            "  npm audit fix --force\n",
            "\n",
            "Run `npm audit` for details.\n",
            "\u001b[1G\u001b[0K⠼\u001b[1G\u001b[0KCollecting https://github.com/yt-dlp/yt-dlp/archive/master.tar.gz\n",
            "  Using cached https://github.com/yt-dlp/yt-dlp/archive/master.tar.gz\n",
            "  Installing build dependencies ... \u001b[?25l\u001b[?25hdone\n",
            "  Getting requirements to build wheel ... \u001b[?25l\u001b[?25hdone\n",
            "  Preparing metadata (pyproject.toml) ... \u001b[?25l\u001b[?25hdone\n",
            "Building wheels for collected packages: yt-dlp\n",
            "  Building wheel for yt-dlp (pyproject.toml) ... \u001b[?25l\u001b[?25hdone\n",
            "  Created wheel for yt-dlp: filename=yt_dlp-2025.2.19-py3-none-any.whl size=2932679 sha256=9a3f46ea55c10bea2086971a1e1891939fec1060228962d1eef513af473e5954\n",
            "  Stored in directory: /tmp/pip-ephem-wheel-cache-1a3o0ezc/wheels/2d/79/97/7209650ef73114e0fe0603480da012ad3afacb9cae6b8acd9a\n",
            "Successfully built yt-dlp\n",
            "Installing collected packages: yt-dlp\n",
            "  Attempting uninstall: yt-dlp\n",
            "    Found existing installation: yt-dlp 2025.2.19\n",
            "    Uninstalling yt-dlp-2025.2.19:\n",
            "      Successfully uninstalled yt-dlp-2025.2.19\n",
            "Successfully installed yt-dlp-2025.2.19\n",
            "Requirement already satisfied: pyngrok in /usr/local/lib/python3.11/dist-packages (7.2.3)\n",
            "Requirement already satisfied: PyYAML>=5.1 in /usr/local/lib/python3.11/dist-packages (from pyngrok) (6.0.2)\n",
            "Requirement already satisfied: sympy in /usr/local/lib/python3.11/dist-packages (1.13.3)\n",
            "Requirement already satisfied: mpmath<1.4,>=1.1.0 in /usr/local/lib/python3.11/dist-packages (from sympy) (1.3.0)\n",
            "Requirement already satisfied: yt-dlp in /usr/local/lib/python3.11/dist-packages (2025.2.19)\n",
            "Requirement already satisfied: soundfile in /usr/local/lib/python3.11/dist-packages (0.13.1)\n",
            "Requirement already satisfied: cffi>=1.0 in /usr/local/lib/python3.11/dist-packages (from soundfile) (1.17.1)\n",
            "Requirement already satisfied: numpy in /usr/local/lib/python3.11/dist-packages (from soundfile) (1.26.4)\n",
            "Requirement already satisfied: pycparser in /usr/local/lib/python3.11/dist-packages (from cffi>=1.0->soundfile) (2.22)\n",
            "Requirement already satisfied: pytube in /usr/local/lib/python3.11/dist-packages (15.0.0)\n",
            "Requirement already satisfied: pytube in /usr/local/lib/python3.11/dist-packages (15.0.0)\n",
            "Reading package lists... Done\n",
            "Building dependency tree... Done\n",
            "Reading state information... Done\n",
            "ffmpeg is already the newest version (7:4.4.2-0ubuntu0.22.04.1).\n",
            "0 upgraded, 0 newly installed, 0 to remove and 20 not upgraded.\n",
            "Requirement already satisfied: pandas in /usr/local/lib/python3.11/dist-packages (2.2.2)\n",
            "Requirement already satisfied: gspread in /usr/local/lib/python3.11/dist-packages (6.1.4)\n",
            "Requirement already satisfied: oauth2client in /usr/local/lib/python3.11/dist-packages (4.1.3)\n",
            "Requirement already satisfied: numpy>=1.23.2 in /usr/local/lib/python3.11/dist-packages (from pandas) (1.26.4)\n",
            "Requirement already satisfied: python-dateutil>=2.8.2 in /usr/local/lib/python3.11/dist-packages (from pandas) (2.8.2)\n",
            "Requirement already satisfied: pytz>=2020.1 in /usr/local/lib/python3.11/dist-packages (from pandas) (2025.1)\n",
            "Requirement already satisfied: tzdata>=2022.7 in /usr/local/lib/python3.11/dist-packages (from pandas) (2025.1)\n",
            "Requirement already satisfied: google-auth>=1.12.0 in /usr/local/lib/python3.11/dist-packages (from gspread) (2.27.0)\n",
            "Requirement already satisfied: google-auth-oauthlib>=0.4.1 in /usr/local/lib/python3.11/dist-packages (from gspread) (1.2.1)\n",
            "Requirement already satisfied: httplib2>=0.9.1 in /usr/local/lib/python3.11/dist-packages (from oauth2client) (0.22.0)\n",
            "Requirement already satisfied: pyasn1>=0.1.7 in /usr/local/lib/python3.11/dist-packages (from oauth2client) (0.6.1)\n",
            "Requirement already satisfied: pyasn1-modules>=0.0.5 in /usr/local/lib/python3.11/dist-packages (from oauth2client) (0.4.1)\n",
            "Requirement already satisfied: rsa>=3.1.4 in /usr/local/lib/python3.11/dist-packages (from oauth2client) (4.9)\n",
            "Requirement already satisfied: six>=1.6.1 in /usr/local/lib/python3.11/dist-packages (from oauth2client) (1.17.0)\n",
            "Requirement already satisfied: cachetools<6.0,>=2.0.0 in /usr/local/lib/python3.11/dist-packages (from google-auth>=1.12.0->gspread) (5.5.1)\n",
            "Requirement already satisfied: requests-oauthlib>=0.7.0 in /usr/local/lib/python3.11/dist-packages (from google-auth-oauthlib>=0.4.1->gspread) (2.0.0)\n",
            "Requirement already satisfied: pyparsing!=3.0.0,!=3.0.1,!=3.0.2,!=3.0.3,<4,>=2.4.2 in /usr/local/lib/python3.11/dist-packages (from httplib2>=0.9.1->oauth2client) (3.2.1)\n",
            "Requirement already satisfied: oauthlib>=3.0.0 in /usr/local/lib/python3.11/dist-packages (from requests-oauthlib>=0.7.0->google-auth-oauthlib>=0.4.1->gspread) (3.2.2)\n",
            "Requirement already satisfied: requests>=2.0.0 in /usr/local/lib/python3.11/dist-packages (from requests-oauthlib>=0.7.0->google-auth-oauthlib>=0.4.1->gspread) (2.32.3)\n",
            "Requirement already satisfied: charset-normalizer<4,>=2 in /usr/local/lib/python3.11/dist-packages (from requests>=2.0.0->requests-oauthlib>=0.7.0->google-auth-oauthlib>=0.4.1->gspread) (3.4.1)\n",
            "Requirement already satisfied: idna<4,>=2.5 in /usr/local/lib/python3.11/dist-packages (from requests>=2.0.0->requests-oauthlib>=0.7.0->google-auth-oauthlib>=0.4.1->gspread) (3.10)\n",
            "Requirement already satisfied: urllib3<3,>=1.21.1 in /usr/local/lib/python3.11/dist-packages (from requests>=2.0.0->requests-oauthlib>=0.7.0->google-auth-oauthlib>=0.4.1->gspread) (2.3.0)\n",
            "Requirement already satisfied: certifi>=2017.4.17 in /usr/local/lib/python3.11/dist-packages (from requests>=2.0.0->requests-oauthlib>=0.7.0->google-auth-oauthlib>=0.4.1->gspread) (2025.1.31)\n",
            "Requirement already satisfied: streamlit in /usr/local/lib/python3.11/dist-packages (1.42.1)\n",
            "Requirement already satisfied: yt-dlp in /usr/local/lib/python3.11/dist-packages (2025.2.19)\n",
            "Requirement already satisfied: soundfile in /usr/local/lib/python3.11/dist-packages (0.13.1)\n",
            "Requirement already satisfied: numpy in /usr/local/lib/python3.11/dist-packages (1.26.4)\n",
            "Requirement already satisfied: matplotlib in /usr/local/lib/python3.11/dist-packages (3.10.0)\n",
            "Requirement already satisfied: scipy in /usr/local/lib/python3.11/dist-packages (1.13.1)\n",
            "Requirement already satisfied: pandas in /usr/local/lib/python3.11/dist-packages (2.2.2)\n",
            "Requirement already satisfied: altair<6,>=4.0 in /usr/local/lib/python3.11/dist-packages (from streamlit) (5.5.0)\n",
            "Requirement already satisfied: blinker<2,>=1.0.0 in /usr/local/lib/python3.11/dist-packages (from streamlit) (1.9.0)\n",
            "Requirement already satisfied: cachetools<6,>=4.0 in /usr/local/lib/python3.11/dist-packages (from streamlit) (5.5.1)\n",
            "Requirement already satisfied: click<9,>=7.0 in /usr/local/lib/python3.11/dist-packages (from streamlit) (8.1.8)\n",
            "Requirement already satisfied: packaging<25,>=20 in /usr/local/lib/python3.11/dist-packages (from streamlit) (24.2)\n",
            "Requirement already satisfied: pillow<12,>=7.1.0 in /usr/local/lib/python3.11/dist-packages (from streamlit) (11.1.0)\n",
            "Requirement already satisfied: protobuf<6,>=3.20 in /usr/local/lib/python3.11/dist-packages (from streamlit) (4.25.6)\n",
            "Requirement already satisfied: pyarrow>=7.0 in /usr/local/lib/python3.11/dist-packages (from streamlit) (17.0.0)\n",
            "Requirement already satisfied: requests<3,>=2.27 in /usr/local/lib/python3.11/dist-packages (from streamlit) (2.32.3)\n",
            "Requirement already satisfied: rich<14,>=10.14.0 in /usr/local/lib/python3.11/dist-packages (from streamlit) (13.9.4)\n",
            "Requirement already satisfied: tenacity<10,>=8.1.0 in /usr/local/lib/python3.11/dist-packages (from streamlit) (9.0.0)\n",
            "Requirement already satisfied: toml<2,>=0.10.1 in /usr/local/lib/python3.11/dist-packages (from streamlit) (0.10.2)\n",
            "Requirement already satisfied: typing-extensions<5,>=4.4.0 in /usr/local/lib/python3.11/dist-packages (from streamlit) (4.12.2)\n",
            "Requirement already satisfied: watchdog<7,>=2.1.5 in /usr/local/lib/python3.11/dist-packages (from streamlit) (6.0.0)\n",
            "Requirement already satisfied: gitpython!=3.1.19,<4,>=3.0.7 in /usr/local/lib/python3.11/dist-packages (from streamlit) (3.1.44)\n",
            "Requirement already satisfied: pydeck<1,>=0.8.0b4 in /usr/local/lib/python3.11/dist-packages (from streamlit) (0.9.1)\n",
            "Requirement already satisfied: tornado<7,>=6.0.3 in /usr/local/lib/python3.11/dist-packages (from streamlit) (6.4.2)\n",
            "Requirement already satisfied: cffi>=1.0 in /usr/local/lib/python3.11/dist-packages (from soundfile) (1.17.1)\n",
            "Requirement already satisfied: contourpy>=1.0.1 in /usr/local/lib/python3.11/dist-packages (from matplotlib) (1.3.1)\n",
            "Requirement already satisfied: cycler>=0.10 in /usr/local/lib/python3.11/dist-packages (from matplotlib) (0.12.1)\n",
            "Requirement already satisfied: fonttools>=4.22.0 in /usr/local/lib/python3.11/dist-packages (from matplotlib) (4.56.0)\n",
            "Requirement already satisfied: kiwisolver>=1.3.1 in /usr/local/lib/python3.11/dist-packages (from matplotlib) (1.4.8)\n",
            "Requirement already satisfied: pyparsing>=2.3.1 in /usr/local/lib/python3.11/dist-packages (from matplotlib) (3.2.1)\n",
            "Requirement already satisfied: python-dateutil>=2.7 in /usr/local/lib/python3.11/dist-packages (from matplotlib) (2.8.2)\n",
            "Requirement already satisfied: pytz>=2020.1 in /usr/local/lib/python3.11/dist-packages (from pandas) (2025.1)\n",
            "Requirement already satisfied: tzdata>=2022.7 in /usr/local/lib/python3.11/dist-packages (from pandas) (2025.1)\n",
            "Requirement already satisfied: jinja2 in /usr/local/lib/python3.11/dist-packages (from altair<6,>=4.0->streamlit) (3.1.5)\n",
            "Requirement already satisfied: jsonschema>=3.0 in /usr/local/lib/python3.11/dist-packages (from altair<6,>=4.0->streamlit) (4.23.0)\n",
            "Requirement already satisfied: narwhals>=1.14.2 in /usr/local/lib/python3.11/dist-packages (from altair<6,>=4.0->streamlit) (1.26.0)\n",
            "Requirement already satisfied: pycparser in /usr/local/lib/python3.11/dist-packages (from cffi>=1.0->soundfile) (2.22)\n",
            "Requirement already satisfied: gitdb<5,>=4.0.1 in /usr/local/lib/python3.11/dist-packages (from gitpython!=3.1.19,<4,>=3.0.7->streamlit) (4.0.12)\n",
            "Requirement already satisfied: six>=1.5 in /usr/local/lib/python3.11/dist-packages (from python-dateutil>=2.7->matplotlib) (1.17.0)\n",
            "Requirement already satisfied: charset-normalizer<4,>=2 in /usr/local/lib/python3.11/dist-packages (from requests<3,>=2.27->streamlit) (3.4.1)\n",
            "Requirement already satisfied: idna<4,>=2.5 in /usr/local/lib/python3.11/dist-packages (from requests<3,>=2.27->streamlit) (3.10)\n",
            "Requirement already satisfied: urllib3<3,>=1.21.1 in /usr/local/lib/python3.11/dist-packages (from requests<3,>=2.27->streamlit) (2.3.0)\n",
            "Requirement already satisfied: certifi>=2017.4.17 in /usr/local/lib/python3.11/dist-packages (from requests<3,>=2.27->streamlit) (2025.1.31)\n",
            "Requirement already satisfied: markdown-it-py>=2.2.0 in /usr/local/lib/python3.11/dist-packages (from rich<14,>=10.14.0->streamlit) (3.0.0)\n",
            "Requirement already satisfied: pygments<3.0.0,>=2.13.0 in /usr/local/lib/python3.11/dist-packages (from rich<14,>=10.14.0->streamlit) (2.18.0)\n",
            "Requirement already satisfied: smmap<6,>=3.0.1 in /usr/local/lib/python3.11/dist-packages (from gitdb<5,>=4.0.1->gitpython!=3.1.19,<4,>=3.0.7->streamlit) (5.0.2)\n",
            "Requirement already satisfied: MarkupSafe>=2.0 in /usr/local/lib/python3.11/dist-packages (from jinja2->altair<6,>=4.0->streamlit) (3.0.2)\n",
            "Requirement already satisfied: attrs>=22.2.0 in /usr/local/lib/python3.11/dist-packages (from jsonschema>=3.0->altair<6,>=4.0->streamlit) (25.1.0)\n",
            "Requirement already satisfied: jsonschema-specifications>=2023.03.6 in /usr/local/lib/python3.11/dist-packages (from jsonschema>=3.0->altair<6,>=4.0->streamlit) (2024.10.1)\n",
            "Requirement already satisfied: referencing>=0.28.4 in /usr/local/lib/python3.11/dist-packages (from jsonschema>=3.0->altair<6,>=4.0->streamlit) (0.36.2)\n",
            "Requirement already satisfied: rpds-py>=0.7.1 in /usr/local/lib/python3.11/dist-packages (from jsonschema>=3.0->altair<6,>=4.0->streamlit) (0.22.3)\n",
            "Requirement already satisfied: mdurl~=0.1 in /usr/local/lib/python3.11/dist-packages (from markdown-it-py>=2.2.0->rich<14,>=10.14.0->streamlit) (0.1.2)\n"
          ]
        }
      ],
      "source": [
        "!pip install streamlit -q\n",
        "!npm install localtunnel\n",
        "!python3 -m pip install --force-reinstall https://github.com/yt-dlp/yt-dlp/archive/master.tar.gz\n",
        "!pip install pyngrok\n",
        "!pip install sympy --upgrade\n",
        "!pip install yt-dlp\n",
        "!pip install soundfile\n",
        "!pip install pytube\n",
        "!pip install --upgrade pytube\n",
        "!apt-get install ffmpeg\n",
        "!pip install pandas gspread oauth2client\n",
        "!pip install streamlit yt-dlp soundfile numpy matplotlib scipy pandas"
      ]
    },
    {
      "cell_type": "markdown",
      "source": [
        "Este script en Python implementa una aplicación web interactiva utilizando Streamlit, que permite la descarga, análisis y modulación de señales de audio. Para ello, el código ofrece dos opciones: cargar un archivo de audio local en formato MP3 o WAV, o descargar audio desde YouTube utilizando la biblioteca `yt-dlp`. Una vez obtenido el audio, la señal se visualiza y analiza en el dominio del tiempo y la frecuencia, mostrando su forma de onda y su espectro mediante la transformada de Fourier.\n",
        "\n",
        "Posteriormente, se implementa un proceso de modulación de amplitud (AM), donde la señal original se multiplica por una portadora senoidal cuya frecuencia puede ajustarse mediante un control en la interfaz. Se permite la reproducción de la señal original, la señal modulada y la señal demodulada después de ser filtrada con un filtro paso bajo Butterworth, diseñado utilizando la biblioteca `scipy.signal`.\n",
        "\n",
        "El código también emplea `soundfile` para la lectura y escritura de archivos de audio, `numpy` y `matplotlib` para el procesamiento y la graficación de las señales, y Streamlit para la creación de una interfaz interactiva. Esta aplicación es útil para visualizar los efectos de la modulación en señales de audio y comprender mejor los procesos involucrados en las telecomunicaciones.\n"
      ],
      "metadata": {
        "id": "nE3gfc67MX4r"
      }
    },
    {
      "cell_type": "code",
      "source": [
        "%%writefile Punto2.py\n",
        "import os\n",
        "import yt_dlp as youtube_dl\n",
        "import subprocess\n",
        "import soundfile as sf\n",
        "import pandas as pd\n",
        "import numpy as np\n",
        "import matplotlib.pyplot as plt\n",
        "import streamlit as st\n",
        "\n",
        "# Título de la aplicación\n",
        "st.title('Análisis y Modulación de Audio desde YouTube: Descarga, Conversión y Análisis en Streamlit')\n",
        "\n",
        "# Descripción o texto en la app\n",
        "st.write(\"Punto 3:\")\n",
        "\n",
        "# Función para descargar mp3 desde YouTube\n",
        "def download_ytvid_as_mp3(video_url, name):\n",
        "    video_info = youtube_dl.YoutubeDL().extract_info(url=video_url, download=False)\n",
        "    filename = f\"{name}.mp3\"\n",
        "    options = {\n",
        "        'format': 'bestaudio/best',\n",
        "        'keepvideo': False,\n",
        "        'outtmpl': filename,\n",
        "    }\n",
        "    with youtube_dl.YoutubeDL(options) as ydl:\n",
        "        ydl.download([video_info['webpage_url']])\n",
        "    return filename\n",
        "\n",
        "# Subir archivo Excel con enlaces a videos de YouTube\n",
        "uploaded_file = st.file_uploader(\"Sube un archivo Excel con enlaces de YouTube\", type=\"xlsx\")\n",
        "\n",
        "if uploaded_file:\n",
        "    X = pd.read_excel(uploaded_file)\n",
        "    st.write(\"Primeras filas del archivo:\")\n",
        "    st.dataframe(X.head())\n",
        "\n",
        "    # Crear carpeta para resultados\n",
        "    os.makedirs(\"results\", exist_ok=True)\n",
        "\n",
        "    # Descargar y procesar el primer video\n",
        "    n = 0  # Usamos el primer video para el ejemplo\n",
        "    name_ = f'results/{X.loc[n, \"band\"]}_{n}_{X.loc[n, \"type_num\"]}'\n",
        "    st.write(f\"Descargando video: {X.loc[n, 'band']}\")\n",
        "\n",
        "    mp3_file = download_ytvid_as_mp3(X.loc[n, 'link'], name_)\n",
        "    st.write(\"Conversión a WAV...\")\n",
        "    subprocess.call(['ffmpeg', '-y', '-i', mp3_file, f'{name_}.wav'])\n",
        "\n",
        "    # Cargar archivo WAV y mostrar algunos datos\n",
        "    wav_file = f\"{name_}.wav\"\n",
        "    x, fs = sf.read(wav_file)\n",
        "    st.write(f\"Frecuencia de muestreo: {fs} Hz\")\n",
        "    st.audio(wav_file)\n",
        "\n",
        "    # Partición del archivo de audio\n",
        "    ts = 5  # Duración del segmento en segundos\n",
        "    t_segment = np.arange(0, ts, 1/fs)\n",
        "    x_t = x[:int(ts*fs), :]  # Primer segmento de audio\n",
        "\n",
        "    st.write(\"Reproduciendo segmento de audio:\")\n",
        "    st.audio(x_t.T, sample_rate=fs)\n",
        "\n",
        "    # Generación y visualización de la señal de portadora y mensaje\n",
        "    xm = x_t[:, 0]  # Canal 1\n",
        "    Fc = 15000  # Frecuencia de portadora\n",
        "    Ac = max(abs(xm))  # Amplitud de la portadora\n",
        "    c = Ac * np.sin(2 * np.pi * Fc * t_segment)\n",
        "\n",
        "    # Graficar portadora y mensaje\n",
        "    fig, ax = plt.subplots()\n",
        "    ax.plot(t_segment, c, label='Portadora')\n",
        "    ax.plot(t_segment, xm, label='Mensaje')\n",
        "    ax.set_xlabel('Tiempo [s]')\n",
        "    ax.set_ylabel('Amplitud')\n",
        "    ax.legend()\n",
        "    st.pyplot(fig)\n",
        "\n",
        "    # Modulación AM\n",
        "    y = (1 + xm / Ac) * c\n",
        "    st.write(\"Reproduciendo señal modulada en AM:\")\n",
        "    st.audio(y, sample_rate=fs)\n",
        "\n",
        "    # Espectros de las señales\n",
        "    Xfc = np.fft.fft(c)\n",
        "    Xfm = np.fft.fft(xm)\n",
        "    Xfy = np.fft.fft(y)\n",
        "    vfre = np.fft.fftfreq(len(c), 1/fs)\n",
        "\n",
        "    # Graficar espectros\n",
        "    fig, ax = plt.subplots()\n",
        "    ax.plot(vfre, np.abs(Xfy), label='Modulada')\n",
        "    ax.plot(vfre, np.abs(Xfm), label='Mensaje')\n",
        "    ax.plot(vfre, np.abs(Xfc), label='Portadora')\n",
        "    ax.set_xlim([0, 30000])\n",
        "    ax.set_xlabel('Frecuencia [Hz]')\n",
        "    ax.set_ylabel('Magnitud')\n",
        "    ax.legend()\n",
        "    st.pyplot(fig)"
      ],
      "metadata": {
        "colab": {
          "base_uri": "https://localhost:8080/"
        },
        "id": "jkJ9QfqZKyes",
        "outputId": "e691208a-ea95-490f-e575-e4e20dc03622"
      },
      "execution_count": 14,
      "outputs": [
        {
          "output_type": "stream",
          "name": "stdout",
          "text": [
            "Overwriting Punto2.py\n"
          ]
        }
      ]
    },
    {
      "cell_type": "markdown",
      "source": [
        "El código token=\"2lmAC6DGxB9xF06bq6Js7K7IZQK_5T6aE4rBZBp6hDqefow8M\" asigna un valor de cadena (string) a la variable token. Este token se utiliza para autenticar y autorizar la creación de la aplicación en Streamlit, permitiendo el acceso a servicios como ngrok."
      ],
      "metadata": {
        "id": "Nj5WDAdeMr30"
      }
    },
    {
      "cell_type": "code",
      "source": [
        "token=\"2mraVkMegLT3dtlJmEyHhXBq8cj_4nGk3GjYEZVfV5XAJR4be\""
      ],
      "metadata": {
        "id": "f8X4j_g_K3sV"
      },
      "execution_count": 15,
      "outputs": []
    },
    {
      "cell_type": "markdown",
      "source": [
        "Este código permite ejecutar una aplicación de Streamlit y hacerla accesible desde Internet utilizando ngrok. Primero, se autentica con ngrok mediante un token de usuario, lo que permite gestionar túneles de forma segura. Luego, se ejecuta el archivo Punto2.py en un servidor local de Streamlit en el puerto 5029, usando nohup para que siga corriendo en segundo plano. Después, se establece un túnel con ngrok, permitiendo exponer el puerto de la aplicación a Internet mediante una URL pública. Finalmente, el código imprime el enlace generado por ngrok, que se puede utilizar para acceder a la aplicación desde cualquier navegador. Esta técnica es útil para compartir dashboards interactivos sin necesidad de abrir puertos manualmente o configurar servidores en la nube."
      ],
      "metadata": {
        "id": "eEGGTKC0M90s"
      }
    },
    {
      "cell_type": "code",
      "source": [
        "from pyngrok import ngrok\n",
        "\n",
        "# # Set authentication token (unique per user)\n",
        "ngrok.set_auth_token(token)\n",
        "\n",
        "# # Start Streamlit server on a specific port\n",
        "!nohup streamlit run Punto2.py --server.port 5029 &\n",
        "\n",
        "# # Start ngrok tunnel to expose the Streamlit server\n",
        "ngrok_tunnel = ngrok.connect(addr='5029', proto='http', bind_tls=True)\n",
        "\n",
        "# # Print the URL of the ngrok tunnel\n",
        "print(' * Tunnel URL:', ngrok_tunnel.public_url)"
      ],
      "metadata": {
        "colab": {
          "base_uri": "https://localhost:8080/"
        },
        "id": "PwgCuwXQK4_m",
        "outputId": "876292dc-f526-4e00-ee8a-92eb52f81d4b"
      },
      "execution_count": 16,
      "outputs": [
        {
          "output_type": "stream",
          "name": "stdout",
          "text": [
            "nohup: appending output to 'nohup.out'\n",
            " * Tunnel URL: https://ea20-34-13-197-176.ngrok-free.app\n"
          ]
        }
      ]
    },
    {
      "cell_type": "markdown",
      "source": [
        "# PUNTO 3"
      ],
      "metadata": {
        "id": "v9EWYJepNCDe"
      }
    },
    {
      "cell_type": "markdown",
      "source": [
        "Este fragmento de código instala las librerías necesarias para ejecutar una aplicación en Streamlit y facilitar su acceso remoto.\n",
        "\n",
        "- !pip install streamlit -q: Instala Streamlit, un framework en Python para crear aplicaciones web interactivas, con el argumento -q para que la instalación sea silenciosa.\n",
        "\n",
        "- !npm install localtunnel: Instala localtunnel, una herramienta que permite exponer servidores locales a Internet sin necesidad de configurar redes o abrir puertos.\n",
        "\n",
        "- !python3 -m pip install --force-reinstall https://github.com/yt-dlp/yt-dlp/archive/master.tar.gz: Descarga e instala yt-dlp directamente desde su repositorio de GitHub, asegurando una versión actualizada mediante --force-reinstall. Esta biblioteca permite descargar contenido multimedia de plataformas como YouTube.\n",
        "\n",
        "- !pip install pyngrok: Instala pyngrok, una interfaz en Python para ngrok, que\n",
        "permite crear túneles seguros para exponer servidores locales a Internet, facilitando el acceso remoto a la aplicación de Streamlit."
      ],
      "metadata": {
        "id": "VK-FFDB6N-07"
      }
    },
    {
      "cell_type": "code",
      "source": [
        "!pip install streamlit -q #instalación de librerías\n",
        "!npm install localtunnel\n",
        "!python3 -m pip install --force-reinstall https://github.com/yt-dlp/yt-dlp/archive/master.tar.gz\n",
        "!pip install pyngrok"
      ],
      "metadata": {
        "colab": {
          "base_uri": "https://localhost:8080/"
        },
        "id": "PI5txVPQNGjo",
        "outputId": "61483173-0332-4122-cfe6-f365210e0226"
      },
      "execution_count": 5,
      "outputs": [
        {
          "output_type": "stream",
          "name": "stdout",
          "text": [
            "\u001b[1G\u001b[0K⠙\u001b[1G\u001b[0K⠹\u001b[1G\u001b[0K⠸\u001b[1G\u001b[0K⠼\u001b[1G\u001b[0K\n",
            "up to date, audited 23 packages in 655ms\n",
            "\u001b[1G\u001b[0K⠼\u001b[1G\u001b[0K\n",
            "\u001b[1G\u001b[0K⠼\u001b[1G\u001b[0K3 packages are looking for funding\n",
            "\u001b[1G\u001b[0K⠼\u001b[1G\u001b[0K  run `npm fund` for details\n",
            "\u001b[1G\u001b[0K⠼\u001b[1G\u001b[0K\n",
            "2 \u001b[33m\u001b[1mmoderate\u001b[22m\u001b[39m severity vulnerabilities\n",
            "\n",
            "To address all issues (including breaking changes), run:\n",
            "  npm audit fix --force\n",
            "\n",
            "Run `npm audit` for details.\n",
            "\u001b[1G\u001b[0K⠼\u001b[1G\u001b[0KCollecting https://github.com/yt-dlp/yt-dlp/archive/master.tar.gz\n",
            "  Using cached https://github.com/yt-dlp/yt-dlp/archive/master.tar.gz\n"
          ]
        },
        {
          "output_type": "stream",
          "name": "stderr",
          "text": [
            "WARNING:pyngrok.process.ngrok:t=2025-02-20T04:36:04+0000 lvl=warn msg=\"Stopping forwarder\" name=http-5029-3e86b5ba-ca95-4c39-a46c-fe478f467924 acceptErr=\"failed to accept connection: Listener closed\"\n",
            "WARNING:pyngrok.process.ngrok:t=2025-02-20T04:36:04+0000 lvl=warn msg=\"Error restarting forwarder\" name=http-5029-3e86b5ba-ca95-4c39-a46c-fe478f467924 err=\"failed to start tunnel: session closed\"\n"
          ]
        },
        {
          "output_type": "stream",
          "name": "stdout",
          "text": [
            "  Installing build dependencies ... \u001b[?25l\u001b[?25hcanceled\n",
            "\u001b[31mERROR: Operation cancelled by user\u001b[0m\u001b[31m\n",
            "\u001b[0mException ignored in: <finalize object at 0x7a633241ac40; dead>\n",
            "Traceback (most recent call last):\n",
            "  File \"/usr/lib/python3.11/weakref.py\", line 590, in __call__\n",
            "    return info.func(*info.args, **(info.kwargs or {}))\n",
            "           ^^^^^^^^^^^^^^^^^^^^^^^^^^^^^^^^^^^^^^^^^^^^\n",
            "  File \"/usr/local/lib/python3.11/dist-packages/pip/_vendor/urllib3/connectionpool.py\", line 1138, in _close_pool_connections\n",
            "    conn.close()\n",
            "  File \"/usr/lib/python3.11/http/client.py\", line 981, in close\n",
            "    sock.close()   # close it manually... there may be other refs\n",
            "    ^^^^^^^^^^^^\n",
            "  File \"/usr/lib/python3.11/socket.py\", line 503, in close\n",
            "    self._real_close()\n",
            "  File \"/usr/lib/python3.11/ssl.py\", line 1373, in _real_close\n",
            "    super()._real_close()\n",
            "  File \"/usr/lib/python3.11/socket.py\", line 497, in _real_close\n",
            "    _ss.close(self)\n",
            "KeyboardInterrupt: \n",
            "Requirement already satisfied: pyngrok in /usr/local/lib/python3.11/dist-packages (7.2.3)\n",
            "Requirement already satisfied: PyYAML>=5.1 in /usr/local/lib/python3.11/dist-packages (from pyngrok) (6.0.2)\n"
          ]
        }
      ]
    },
    {
      "cell_type": "markdown",
      "source": [
        "Este código implementa una aplicación interactiva en Streamlit para analizar el Total Harmonic Distortion (THD) en rectificadores de onda completa con cargas resistivas y RC. Para ello, genera una señal rectificada de onda completa y calcula su Transformada Rápida de Fourier (FFT) con el fin de analizar su contenido espectral. A partir de la FFT, se calcula el THD, que mide la distorsión armónica total de la señal considerando la relación entre los armónicos superiores y el primer armónico.\n",
        "\n",
        "La aplicación permite al usuario ajustar la frecuencia de entrada de la señal, así como los valores de la resistencia (R) y la capacitancia (C) de la carga mediante deslizadores interactivos. Posteriormente, se muestran gráficos de la señal en el dominio del tiempo, su espectro de frecuencia (FFT) y los valores de THD obtenidos para cada tipo de carga. Este análisis es especialmente útil en el estudio de circuitos eléctricos y electrónicos, permitiendo evaluar el impacto de diferentes cargas en la distorsión de la señal de salida en rectificadores."
      ],
      "metadata": {
        "id": "mjJVy1jvQewO"
      }
    },
    {
      "cell_type": "code",
      "source": [
        "%%writefile Punto3.py\n",
        "import streamlit as st\n",
        "import numpy as np\n",
        "import matplotlib.pyplot as plt\n",
        "from scipy.fftpack import fft, fftfreq\n",
        "\n",
        "# Título de la aplicación\n",
        "st.title('Análisis del Total Harmonic Distortion (THD) en Rectificadores de Onda Completa con Cargas Resistivas y RC')\n",
        "\n",
        "# Parámetros del sistema\n",
        "sampling_rate = 10000  # Frecuencia de muestreo\n",
        "T = 1.0 / sampling_rate  # Intervalo de tiempo\n",
        "t = np.linspace(0, 1.0, sampling_rate)\n",
        "\n",
        "# Función para generar la señal del rectificador de onda completa\n",
        "def rectificador_onda_completa(t, f, R, C=None):\n",
        "    signal = np.abs(np.sin(2 * np.pi * f * t))\n",
        "    if C is not None and C > 0:\n",
        "        tau = R * C\n",
        "        signal = signal * np.exp(-t / tau)\n",
        "    return signal\n",
        "\n",
        "# Función para calcular la FFT\n",
        "def calcular_fft(signal, sampling_rate):\n",
        "    N = len(signal)\n",
        "    yf = fft(signal)\n",
        "    xf = fftfreq(N, 1 / sampling_rate)[:N // 2]\n",
        "    return xf, np.abs(yf[:N // 2])\n",
        "\n",
        "# Función para calcular el THD\n",
        "def calcular_thd(yf):\n",
        "    if len(yf) < 2:\n",
        "        return 0\n",
        "    V1 = yf[1]  # Primer armónico\n",
        "    harmonics = np.sqrt(np.sum(yf[2:]**2))\n",
        "    thd = harmonics / V1 if V1 > 0 else 0\n",
        "    return thd\n",
        "\n",
        "# Interfaz gráfica\n",
        "st.subheader(\"Parámetros de la simulación\")\n",
        "f = st.slider(\"Frecuencia de la señal de entrada (Hz):\", min_value=10, max_value=100, value=60)\n",
        "R = st.slider(\"Ingrese el valor de la Resistencia R (ohmios):\", min_value=0.1, max_value=100.0, value=10.0, step=0.1)\n",
        "C = st.slider(\"Ingrese el valor de la Capacitancia C (faradios):\", min_value=0.0, max_value=10.0, value=1.0, step=0.1)\n",
        "\n",
        "# Simulación\n",
        "signal_resistiva = rectificador_onda_completa(t, f, R)\n",
        "signal_rc = rectificador_onda_completa(t, f, R, C)\n",
        "\n",
        "# FFT\n",
        "xf_res, yf_res = calcular_fft(signal_resistiva, sampling_rate)\n",
        "xf_rc, yf_rc = calcular_fft(signal_rc, sampling_rate)\n",
        "\n",
        "# Calcular THD\n",
        "thd_resistiva = calcular_thd(yf_res)\n",
        "thd_rc = calcular_thd(yf_rc)\n",
        "\n",
        "# Mostrar resultados de THD\n",
        "st.write(f\"THD para carga resistiva pura: {thd_resistiva:.4f}\")\n",
        "st.write(f\"THD para carga RC: {thd_rc:.4f}\")\n",
        "\n",
        "# Graficar señales y FFT\n",
        "fig, axs = plt.subplots(2, 2, figsize=(12, 8))\n",
        "\n",
        "axs[0, 0].plot(t[:500], signal_resistiva[:500])\n",
        "axs[0, 0].set_title(\"Señal con carga resistiva pura\")\n",
        "axs[0, 0].set_xlabel(\"Tiempo [s]\")\n",
        "axs[0, 0].set_ylabel(\"Amplitud\")\n",
        "\n",
        "axs[0, 1].plot(t[:500], signal_rc[:500])\n",
        "axs[0, 1].set_title(\"Señal con carga RC\")\n",
        "axs[0, 1].set_xlabel(\"Tiempo [s]\")\n",
        "axs[0, 1].set_ylabel(\"Amplitud\")\n",
        "\n",
        "axs[1, 0].plot(xf_res, yf_res)\n",
        "axs[1, 0].set_title(\"FFT - Carga resistiva pura\")\n",
        "axs[1, 0].set_xlabel(\"Frecuencia [Hz]\")\n",
        "axs[1, 0].set_ylabel(\"Amplitud\")\n",
        "\n",
        "axs[1, 1].plot(xf_rc, yf_rc)\n",
        "axs[1, 1].set_title(\"FFT - Carga RC\")\n",
        "axs[1, 1].set_xlabel(\"Frecuencia [Hz]\")\n",
        "axs[1, 1].set_ylabel(\"Amplitud\")\n",
        "\n",
        "plt.tight_layout()\n",
        "st.pyplot(fig)\n"
      ],
      "metadata": {
        "colab": {
          "base_uri": "https://localhost:8080/"
        },
        "id": "xDQDtEmaOoSv",
        "outputId": "3c7cbc59-7bcf-455b-b525-19f49f35f8ee"
      },
      "execution_count": 6,
      "outputs": [
        {
          "output_type": "stream",
          "name": "stdout",
          "text": [
            "Overwriting Punto3.py\n"
          ]
        }
      ]
    },
    {
      "cell_type": "markdown",
      "source": [
        "El código token=\"2lmAC6DGxB9xF06bq6Js7K7IZQK_5T6aE4rBZBp6hDqefow8M\" asigna un valor de cadena (string) a la variable token. Este token se utiliza para autenticar y autorizar la creación de la aplicación en Streamlit, permitiendo el acceso a servicios como ngrok."
      ],
      "metadata": {
        "id": "widLZ5mjQi8A"
      }
    },
    {
      "cell_type": "code",
      "source": [
        "token=\"2mraVkMegLT3dtlJmEyHhXBq8cj_4nGk3GjYEZVfV5XAJR4be\""
      ],
      "metadata": {
        "id": "79onfynnO8EA"
      },
      "execution_count": 7,
      "outputs": []
    },
    {
      "cell_type": "markdown",
      "source": [
        "Este código permite ejecutar una aplicación de Streamlit y hacerla accesible desde Internet utilizando ngrok. Primero, se autentica con ngrok mediante un token de usuario, lo que permite gestionar túneles de forma segura. Luego, se ejecuta el archivo Punto3.py en un servidor local de Streamlit en el puerto 5039, usando nohup para que siga corriendo en segundo plano. Después, se establece un túnel con ngrok, permitiendo exponer el puerto de la aplicación a Internet mediante una URL pública. Finalmente, el código imprime el enlace generado por ngrok, que se puede utilizar para acceder a la aplicación desde cualquier navegador. Esta técnica es útil para compartir dashboards interactivos sin necesidad de abrir puertos manualmente o configurar servidores en la nube."
      ],
      "metadata": {
        "id": "LDRzTX8RQkFp"
      }
    },
    {
      "cell_type": "code",
      "source": [
        "from pyngrok import ngrok\n",
        "\n",
        "# # Set authentication token (unique per user)\n",
        "ngrok.set_auth_token(token)\n",
        "\n",
        "# # Start Streamlit server on a specific port\n",
        "!nohup streamlit run Punto3.py --server.port 5039 &\n",
        "\n",
        "# # Start ngrok tunnel to expose the Streamlit server\n",
        "ngrok_tunnel = ngrok.connect(addr='5039', proto='http', bind_tls=True)\n",
        "\n",
        "# # Print the URL of the ngrok tunnel\n",
        "print(' * Tunnel URL:', ngrok_tunnel.public_url)"
      ],
      "metadata": {
        "colab": {
          "base_uri": "https://localhost:8080/"
        },
        "id": "e-FUoQskO-ZB",
        "outputId": "b2050c0b-91ee-4338-c1da-82ed0df04a1c"
      },
      "execution_count": 8,
      "outputs": [
        {
          "output_type": "stream",
          "name": "stdout",
          "text": [
            "nohup: appending output to 'nohup.out'\n",
            " * Tunnel URL: https://3776-34-13-197-176.ngrok-free.app\n"
          ]
        }
      ]
    },
    {
      "cell_type": "markdown",
      "source": [
        "#PUNTO 4"
      ],
      "metadata": {
        "id": "oZZrVe6MQwnm"
      }
    },
    {
      "cell_type": "code",
      "source": [
        "!pip install streamlit sounddevice numpy scipy matplotlib\n",
        "!pip install --upgrade pip setuptools wheel\n",
        "!apt-get install portaudio19-dev\n",
        "!pip install sounddevice\n",
        "!pip install pyngrok\n",
        "#Instalamos laas librerias\n",
        "!pip install streamlit -q\n",
        "!pip install --force-reinstall https://github.com/yt-dlp/yt-dlp/archive/master.tar.gz\n",
        "!python3 -m pip install --force-reinstall https://github.com/yt-dlp/yt-dlp/archive/master.tar.gz"
      ],
      "metadata": {
        "colab": {
          "base_uri": "https://localhost:8080/"
        },
        "id": "i9k-zurhT330",
        "outputId": "d2e6d932-359d-4af4-a79a-24d86d24f2d8"
      },
      "execution_count": 9,
      "outputs": [
        {
          "output_type": "stream",
          "name": "stdout",
          "text": [
            "Requirement already satisfied: streamlit in /usr/local/lib/python3.11/dist-packages (1.42.1)\n",
            "Requirement already satisfied: sounddevice in /usr/local/lib/python3.11/dist-packages (0.5.1)\n",
            "Requirement already satisfied: numpy in /usr/local/lib/python3.11/dist-packages (1.26.4)\n",
            "Requirement already satisfied: scipy in /usr/local/lib/python3.11/dist-packages (1.13.1)\n",
            "Requirement already satisfied: matplotlib in /usr/local/lib/python3.11/dist-packages (3.10.0)\n",
            "Requirement already satisfied: altair<6,>=4.0 in /usr/local/lib/python3.11/dist-packages (from streamlit) (5.5.0)\n",
            "Requirement already satisfied: blinker<2,>=1.0.0 in /usr/local/lib/python3.11/dist-packages (from streamlit) (1.9.0)\n",
            "Requirement already satisfied: cachetools<6,>=4.0 in /usr/local/lib/python3.11/dist-packages (from streamlit) (5.5.1)\n",
            "Requirement already satisfied: click<9,>=7.0 in /usr/local/lib/python3.11/dist-packages (from streamlit) (8.1.8)\n",
            "Requirement already satisfied: packaging<25,>=20 in /usr/local/lib/python3.11/dist-packages (from streamlit) (24.2)\n",
            "Requirement already satisfied: pandas<3,>=1.4.0 in /usr/local/lib/python3.11/dist-packages (from streamlit) (2.2.2)\n",
            "Requirement already satisfied: pillow<12,>=7.1.0 in /usr/local/lib/python3.11/dist-packages (from streamlit) (11.1.0)\n",
            "Requirement already satisfied: protobuf<6,>=3.20 in /usr/local/lib/python3.11/dist-packages (from streamlit) (4.25.6)\n",
            "Requirement already satisfied: pyarrow>=7.0 in /usr/local/lib/python3.11/dist-packages (from streamlit) (17.0.0)\n",
            "Requirement already satisfied: requests<3,>=2.27 in /usr/local/lib/python3.11/dist-packages (from streamlit) (2.32.3)\n",
            "Requirement already satisfied: rich<14,>=10.14.0 in /usr/local/lib/python3.11/dist-packages (from streamlit) (13.9.4)\n",
            "Requirement already satisfied: tenacity<10,>=8.1.0 in /usr/local/lib/python3.11/dist-packages (from streamlit) (9.0.0)\n",
            "Requirement already satisfied: toml<2,>=0.10.1 in /usr/local/lib/python3.11/dist-packages (from streamlit) (0.10.2)\n",
            "Requirement already satisfied: typing-extensions<5,>=4.4.0 in /usr/local/lib/python3.11/dist-packages (from streamlit) (4.12.2)\n",
            "Requirement already satisfied: watchdog<7,>=2.1.5 in /usr/local/lib/python3.11/dist-packages (from streamlit) (6.0.0)\n",
            "Requirement already satisfied: gitpython!=3.1.19,<4,>=3.0.7 in /usr/local/lib/python3.11/dist-packages (from streamlit) (3.1.44)\n",
            "Requirement already satisfied: pydeck<1,>=0.8.0b4 in /usr/local/lib/python3.11/dist-packages (from streamlit) (0.9.1)\n",
            "Requirement already satisfied: tornado<7,>=6.0.3 in /usr/local/lib/python3.11/dist-packages (from streamlit) (6.4.2)\n",
            "Requirement already satisfied: CFFI>=1.0 in /usr/local/lib/python3.11/dist-packages (from sounddevice) (1.17.1)\n",
            "Requirement already satisfied: contourpy>=1.0.1 in /usr/local/lib/python3.11/dist-packages (from matplotlib) (1.3.1)\n",
            "Requirement already satisfied: cycler>=0.10 in /usr/local/lib/python3.11/dist-packages (from matplotlib) (0.12.1)\n",
            "Requirement already satisfied: fonttools>=4.22.0 in /usr/local/lib/python3.11/dist-packages (from matplotlib) (4.56.0)\n",
            "Requirement already satisfied: kiwisolver>=1.3.1 in /usr/local/lib/python3.11/dist-packages (from matplotlib) (1.4.8)\n",
            "Requirement already satisfied: pyparsing>=2.3.1 in /usr/local/lib/python3.11/dist-packages (from matplotlib) (3.2.1)\n",
            "Requirement already satisfied: python-dateutil>=2.7 in /usr/local/lib/python3.11/dist-packages (from matplotlib) (2.8.2)\n",
            "Requirement already satisfied: jinja2 in /usr/local/lib/python3.11/dist-packages (from altair<6,>=4.0->streamlit) (3.1.5)\n",
            "Requirement already satisfied: jsonschema>=3.0 in /usr/local/lib/python3.11/dist-packages (from altair<6,>=4.0->streamlit) (4.23.0)\n",
            "Requirement already satisfied: narwhals>=1.14.2 in /usr/local/lib/python3.11/dist-packages (from altair<6,>=4.0->streamlit) (1.26.0)\n",
            "Requirement already satisfied: pycparser in /usr/local/lib/python3.11/dist-packages (from CFFI>=1.0->sounddevice) (2.22)\n",
            "Requirement already satisfied: gitdb<5,>=4.0.1 in /usr/local/lib/python3.11/dist-packages (from gitpython!=3.1.19,<4,>=3.0.7->streamlit) (4.0.12)\n",
            "Requirement already satisfied: pytz>=2020.1 in /usr/local/lib/python3.11/dist-packages (from pandas<3,>=1.4.0->streamlit) (2025.1)\n",
            "Requirement already satisfied: tzdata>=2022.7 in /usr/local/lib/python3.11/dist-packages (from pandas<3,>=1.4.0->streamlit) (2025.1)\n",
            "Requirement already satisfied: six>=1.5 in /usr/local/lib/python3.11/dist-packages (from python-dateutil>=2.7->matplotlib) (1.17.0)\n",
            "Requirement already satisfied: charset-normalizer<4,>=2 in /usr/local/lib/python3.11/dist-packages (from requests<3,>=2.27->streamlit) (3.4.1)\n",
            "Requirement already satisfied: idna<4,>=2.5 in /usr/local/lib/python3.11/dist-packages (from requests<3,>=2.27->streamlit) (3.10)\n",
            "Requirement already satisfied: urllib3<3,>=1.21.1 in /usr/local/lib/python3.11/dist-packages (from requests<3,>=2.27->streamlit) (2.3.0)\n",
            "Requirement already satisfied: certifi>=2017.4.17 in /usr/local/lib/python3.11/dist-packages (from requests<3,>=2.27->streamlit) (2025.1.31)\n",
            "Requirement already satisfied: markdown-it-py>=2.2.0 in /usr/local/lib/python3.11/dist-packages (from rich<14,>=10.14.0->streamlit) (3.0.0)\n",
            "Requirement already satisfied: pygments<3.0.0,>=2.13.0 in /usr/local/lib/python3.11/dist-packages (from rich<14,>=10.14.0->streamlit) (2.18.0)\n",
            "Requirement already satisfied: smmap<6,>=3.0.1 in /usr/local/lib/python3.11/dist-packages (from gitdb<5,>=4.0.1->gitpython!=3.1.19,<4,>=3.0.7->streamlit) (5.0.2)\n",
            "Requirement already satisfied: MarkupSafe>=2.0 in /usr/local/lib/python3.11/dist-packages (from jinja2->altair<6,>=4.0->streamlit) (3.0.2)\n",
            "Requirement already satisfied: attrs>=22.2.0 in /usr/local/lib/python3.11/dist-packages (from jsonschema>=3.0->altair<6,>=4.0->streamlit) (25.1.0)\n",
            "Requirement already satisfied: jsonschema-specifications>=2023.03.6 in /usr/local/lib/python3.11/dist-packages (from jsonschema>=3.0->altair<6,>=4.0->streamlit) (2024.10.1)\n",
            "Requirement already satisfied: referencing>=0.28.4 in /usr/local/lib/python3.11/dist-packages (from jsonschema>=3.0->altair<6,>=4.0->streamlit) (0.36.2)\n",
            "Requirement already satisfied: rpds-py>=0.7.1 in /usr/local/lib/python3.11/dist-packages (from jsonschema>=3.0->altair<6,>=4.0->streamlit) (0.22.3)\n",
            "Requirement already satisfied: mdurl~=0.1 in /usr/local/lib/python3.11/dist-packages (from markdown-it-py>=2.2.0->rich<14,>=10.14.0->streamlit) (0.1.2)\n",
            "Requirement already satisfied: pip in /usr/local/lib/python3.11/dist-packages (25.0.1)\n",
            "Requirement already satisfied: setuptools in /usr/local/lib/python3.11/dist-packages (75.8.0)\n",
            "Requirement already satisfied: wheel in /usr/local/lib/python3.11/dist-packages (0.45.1)\n"
          ]
        },
        {
          "output_type": "stream",
          "name": "stderr",
          "text": [
            "WARNING:pyngrok.process.ngrok:t=2025-02-20T04:36:12+0000 lvl=warn msg=\"failed to check for update\" obj=updater err=\"Post \\\"https://update.equinox.io/check\\\": context deadline exceeded\"\n"
          ]
        },
        {
          "output_type": "stream",
          "name": "stdout",
          "text": [
            "Reading package lists... Done\n",
            "Building dependency tree... Done\n",
            "Reading state information... Done\n",
            "portaudio19-dev is already the newest version (19.6.0-1.1).\n",
            "0 upgraded, 0 newly installed, 0 to remove and 20 not upgraded.\n",
            "Requirement already satisfied: sounddevice in /usr/local/lib/python3.11/dist-packages (0.5.1)\n",
            "Requirement already satisfied: CFFI>=1.0 in /usr/local/lib/python3.11/dist-packages (from sounddevice) (1.17.1)\n",
            "Requirement already satisfied: pycparser in /usr/local/lib/python3.11/dist-packages (from CFFI>=1.0->sounddevice) (2.22)\n",
            "Requirement already satisfied: pyngrok in /usr/local/lib/python3.11/dist-packages (7.2.3)\n",
            "Requirement already satisfied: PyYAML>=5.1 in /usr/local/lib/python3.11/dist-packages (from pyngrok) (6.0.2)\n",
            "Collecting https://github.com/yt-dlp/yt-dlp/archive/master.tar.gz\n",
            "  Using cached https://github.com/yt-dlp/yt-dlp/archive/master.tar.gz\n",
            "  Installing build dependencies ... \u001b[?25l\u001b[?25hdone\n",
            "  Getting requirements to build wheel ... \u001b[?25l\u001b[?25hdone\n",
            "  Preparing metadata (pyproject.toml) ... \u001b[?25l\u001b[?25hdone\n",
            "Building wheels for collected packages: yt-dlp\n",
            "  Building wheel for yt-dlp (pyproject.toml) ... \u001b[?25l\u001b[?25hdone\n",
            "  Created wheel for yt-dlp: filename=yt_dlp-2025.2.19-py3-none-any.whl size=2932679 sha256=9a3f46ea55c10bea2086971a1e1891939fec1060228962d1eef513af473e5954\n",
            "  Stored in directory: /tmp/pip-ephem-wheel-cache-bmpm_arg/wheels/2d/79/97/7209650ef73114e0fe0603480da012ad3afacb9cae6b8acd9a\n",
            "Successfully built yt-dlp\n",
            "Installing collected packages: yt-dlp\n",
            "  Attempting uninstall: yt-dlp\n",
            "    Found existing installation: yt-dlp 2025.2.19\n",
            "    Uninstalling yt-dlp-2025.2.19:\n",
            "      Successfully uninstalled yt-dlp-2025.2.19\n",
            "Successfully installed yt-dlp-2025.2.19\n",
            "Collecting https://github.com/yt-dlp/yt-dlp/archive/master.tar.gz\n",
            "  Using cached https://github.com/yt-dlp/yt-dlp/archive/master.tar.gz\n",
            "  Installing build dependencies ... \u001b[?25l\u001b[?25hdone\n",
            "  Getting requirements to build wheel ... \u001b[?25l\u001b[?25hdone\n",
            "  Preparing metadata (pyproject.toml) ... \u001b[?25l\u001b[?25hdone\n",
            "Building wheels for collected packages: yt-dlp\n",
            "  Building wheel for yt-dlp (pyproject.toml) ... \u001b[?25l\u001b[?25hdone\n",
            "  Created wheel for yt-dlp: filename=yt_dlp-2025.2.19-py3-none-any.whl size=2932679 sha256=9a3f46ea55c10bea2086971a1e1891939fec1060228962d1eef513af473e5954\n",
            "  Stored in directory: /tmp/pip-ephem-wheel-cache-wz147hti/wheels/2d/79/97/7209650ef73114e0fe0603480da012ad3afacb9cae6b8acd9a\n",
            "Successfully built yt-dlp\n",
            "Installing collected packages: yt-dlp\n",
            "  Attempting uninstall: yt-dlp\n",
            "    Found existing installation: yt-dlp 2025.2.19\n",
            "    Uninstalling yt-dlp-2025.2.19:\n",
            "      Successfully uninstalled yt-dlp-2025.2.19\n",
            "Successfully installed yt-dlp-2025.2.19\n"
          ]
        }
      ]
    },
    {
      "cell_type": "code",
      "source": [
        "%%writefile Punto4.py\n",
        "import streamlit as st\n",
        "import numpy as np\n",
        "import matplotlib.pyplot as plt\n",
        "import soundfile as sf\n",
        "from scipy.io.wavfile import write\n",
        "import io\n",
        "from scipy.io.wavfile import write\n",
        "import tempfile\n",
        "\n",
        "# Configuración de página\n",
        "st.set_page_config(page_title=\"Detector de Voces\", page_icon=\"📊\")\n",
        "st.title(\"Detector de voces\")\n",
        "import os\n",
        "import zipfile\n",
        "import streamlit as st\n",
        "\n",
        "def save_uploaded_file(uploaded_file, save_path):\n",
        "    with open(save_path, \"wb\") as f:\n",
        "        f.write(uploaded_file.getbuffer())\n",
        "\n",
        "def main():\n",
        "    st.title(\"Subir y Extraer Archivo ZIP\")\n",
        "\n",
        "    uploaded_file = st.file_uploader(\"Selecciona un archivo ZIP\", type=[\"zip\"])\n",
        "\n",
        "    if uploaded_file is not None:\n",
        "        os.makedirs(\"results\", exist_ok=True)\n",
        "        zip_path = os.path.join(\"results\", uploaded_file.name)\n",
        "        save_uploaded_file(uploaded_file, zip_path)\n",
        "\n",
        "        with zipfile.ZipFile(zip_path, \"r\") as zip_ref:\n",
        "            zip_ref.extractall(\"results/\")\n",
        "\n",
        "        st.success(f\"Archivos extraídos en 'results/'\")\n",
        "\n",
        "        extracted_files = os.listdir(\"results/\")\n",
        "        st.write(\"Archivos extraídos:\")\n",
        "        st.write(extracted_files)\n",
        "\n",
        "if __name__ == \"__main__\":\n",
        "    main()\n",
        "\n",
        "import os\n",
        "import pandas as pd\n",
        "import streamlit as st\n",
        "\n",
        "def load_audio_data(base_path):\n",
        "    data = []\n",
        "    if not os.path.exists(base_path):\n",
        "        st.error(f\"La ruta '{base_path}' no existe.\")\n",
        "        return pd.DataFrame(columns=[\"NOMBRE DEL ARCHIVO\", \"ESTUDIANTE\", \"CLAVE\"])\n",
        "\n",
        "    for folder in os.listdir(base_path):\n",
        "        folder_path = os.path.join(base_path, folder)\n",
        "        if os.path.isdir(folder_path):\n",
        "            for file in os.listdir(folder_path):\n",
        "                if file.endswith(\".wav\"):\n",
        "                    clave = 1 if folder == \"correcto\" else 2\n",
        "                    data.append([file, folder, clave])\n",
        "\n",
        "    return pd.DataFrame(data, columns=[\"NOMBRE DEL ARCHIVO\", \"ESTUDIANTE\", \"CLAVE\"])\n",
        "\n",
        "def main():\n",
        "    st.title(\"Explorador de Audios\")\n",
        "    base_path = \"results/audios/\"\n",
        "    df = load_audio_data(base_path)\n",
        "\n",
        "    if not df.empty:\n",
        "        st.dataframe(df)\n",
        "    else:\n",
        "        st.warning(\"No se encontraron archivos de audio.\")\n",
        "\n",
        "if __name__ == \"__main__\":\n",
        "    main()\n",
        "\n",
        "import os\n",
        "import librosa\n",
        "import librosa.display\n",
        "import matplotlib.pyplot as plt\n",
        "import streamlit as st\n",
        "\n",
        "def load_and_display_audio(base_path, carpeta_audio, nombre_audio):\n",
        "    audio_path = os.path.join(base_path, carpeta_audio, nombre_audio)\n",
        "\n",
        "    if not os.path.exists(audio_path):\n",
        "        st.error(f\"El archivo {nombre_audio} no existe en {carpeta_audio}.\")\n",
        "        return\n",
        "\n",
        "    y, sr = librosa.load(audio_path, sr=None)\n",
        "\n",
        "    st.audio(audio_path, format='audio/wav', start_time=0)\n",
        "\n",
        "    fig, ax = plt.subplots(figsize=(10, 4))\n",
        "    librosa.display.waveshow(y, sr=sr, ax=ax)\n",
        "    ax.set_title(f\"Forma de onda de {nombre_audio}\")\n",
        "    ax.set_xlabel(\"Tiempo (s)\")\n",
        "    ax.set_ylabel(\"Amplitud\")\n",
        "\n",
        "    st.pyplot(fig)\n",
        "\n",
        "    st.write(f\"**Shape del audio:** {y.shape}\")\n",
        "    st.write(f\"**Frecuencia de muestreo:** {sr} Hz\")\n",
        "\n",
        "def main():\n",
        "    st.title(\"Visualización de Audio\")\n",
        "\n",
        "    base_path = \"results/audios\"\n",
        "    carpeta_audio = st.text_input(\"Nombre de la carpeta del audio:\", \"correcto\")\n",
        "    nombre_audio = st.text_input(\"Nombre del archivo de audio:\", \"segment_49.wav\")\n",
        "\n",
        "    if st.button(\"Cargar y visualizar audio\"):\n",
        "        load_and_display_audio(base_path, carpeta_audio, nombre_audio)\n",
        "\n",
        "if __name__ == \"__main__\":\n",
        "    main()\n",
        "import numpy as np\n",
        "import matplotlib.pyplot as plt\n",
        "import streamlit as st\n",
        "\n",
        "# Configuración de Streamlit\n",
        "st.title(\"Cálculo de la Transformada de Fourier\")\n",
        "st.markdown(\"Este análisis calcula la Transformada Rápida de Fourier (FFT) de señales de audio y encuentra la frecuencia máxima en cada una.\")\n",
        "\n",
        "# Parámetros simulados (debes reemplazarlos con tus datos reales)\n",
        "ts = 5  # Duración total en segundos\n",
        "fs = 48000  # Frecuencia de muestreo en Hz\n",
        "Ns = 3  # Número de audios simulados\n",
        "\n",
        "t = np.linspace(0, ts, ts * fs)\n",
        "x_t = np.random.randn(Ns, len(t))  # Simulación de señales\n",
        "\n",
        "# Cálculo de la FFT\n",
        "vf = np.fft.rfftfreq(x_t.shape[1], 1/fs)  # Vector de frecuencias\n",
        "Xw = np.fft.rfft(x_t, axis=1)  # Transformada de Fourier\n",
        "Xw_mag = np.abs(Xw)  # Magnitud del espectro\n",
        "\n",
        "# Encontrar frecuencia máxima por cada audio\n",
        "idx_max_freq = np.argmax(Xw_mag, axis=1)\n",
        "f_max = vf[idx_max_freq]\n",
        "\n",
        "# Mostrar las frecuencias máximas en Streamlit\n",
        "st.write(\"### Frecuencia máxima por audio\")\n",
        "for i, freq in enumerate(f_max):\n",
        "    st.write(f\"Audio {i + 1}: {freq:.2f} Hz\")\n",
        "\n",
        "# Graficar formas de onda\n",
        "st.write(\"### Forma de onda de todos los audios\")\n",
        "fig, ax = plt.subplots(figsize=(10, 4))\n",
        "for i in range(Ns):\n",
        "    ax.plot(np.linspace(0, ts, x_t.shape[1]), x_t[i], alpha=0.5)\n",
        "ax.set_xlabel(\"Tiempo [s]\")\n",
        "ax.set_ylabel(\"Amplitud\")\n",
        "ax.set_title(\"Forma de onda de todos los audios\")\n",
        "ax.grid(True)\n",
        "st.pyplot(fig)\n",
        "# Gráfica del espectro de frecuencia\n",
        "fig, ax = plt.subplots()\n",
        "ax.plot(vf, abs(Xw).T)\n",
        "ax.set_xlabel('f[Hz]')\n",
        "ax.set_ylabel('|X(f)|')\n",
        "st.pyplot(fig)\n",
        "\n",
        "import streamlit as st\n",
        "import numpy as np\n",
        "import matplotlib.pyplot as plt\n",
        "from sklearn.preprocessing import MinMaxScaler\n",
        "\n",
        "# Se normalizan espectros entre 0 y 1 para evitar inconsistencias por amplitudes máximas\n",
        "sca = MinMaxScaler()\n",
        "Xw_ = sca.fit_transform(abs(Xw).T).T\n",
        "\n",
        "st.title(\"Espectro de Frecuencia Normalizado\")\n",
        "fig, ax = plt.subplots()\n",
        "ax.plot(vf, Xw_.T)\n",
        "ax.set_xlabel('Frecuencia [Hz]')\n",
        "ax.set_ylabel('|X(f)|')\n",
        "ax.grid()\n",
        "st.pyplot(fig)\n",
        "\n",
        "# En dB\n",
        "st.title(\"Espectro de Frecuencia en dB\")\n",
        "fig, ax = plt.subplots()\n",
        "ax.plot(vf, (20 * np.log10(Xw_ + 1e-10)).T)  # Se suma 1e-10 para evitar discontinuidad del log\n",
        "ax.set_xlabel('Frecuencia [Hz]')\n",
        "ax.set_ylabel('|X(f)| dB')\n",
        "ax.grid()\n",
        "st.pyplot(fig)\n",
        "\n",
        "import streamlit as st\n",
        "import matplotlib.pyplot as plt\n",
        "from sklearn.manifold import TSNE\n",
        "from sklearn.decomposition import PCA\n",
        "import numpy as np\n",
        "\n",
        "st.title(\"Visualización de Datos con t-SNE o PCA\")\n",
        "\n",
        "# Parámetros\n",
        "perplexity = st.slider(\"Perplexity\", min_value=5, max_value=50, value=20, step=5)\n",
        "n_components = 2\n",
        "random_state = 123\n",
        "learning_rate = \"auto\"\n",
        "init_method = \"pca\"\n",
        "fmax = 1603\n",
        "\n",
        "# Selección de reducción de dimensionalidad\n",
        "method = st.selectbox(\"Método de reducción de dimensionalidad\", [\"t-SNE\", \"PCA\"])\n",
        "\n",
        "if method == \"t-SNE\":\n",
        "    reducer = TSNE(perplexity=perplexity, n_components=n_components, random_state=random_state,\n",
        "                   learning_rate=learning_rate, init=init_method)\n",
        "elif method == \"PCA\":\n",
        "    reducer = PCA(n_components=n_components, random_state=random_state)\n",
        "\n",
        "# Generar datos de ejemplo\n",
        "np.random.seed(123)\n",
        "Xw_ = np.random.rand(100, fmax)  # Datos simulados para ejemplo\n",
        "label = np.random.randint(0, 2, size=100)  # Etiquetas simuladas\n",
        "name_c = [f\"audio_{i}.wav\" for i in range(100)]\n",
        "\n",
        "# Reducción de dimensionalidad\n",
        "X_2D = reducer.fit_transform(Xw_[:, :fmax])\n",
        "\n",
        "# Graficar\n",
        "fig, ax = plt.subplots(figsize=(8, 6))\n",
        "scatter = ax.scatter(X_2D[:, 0], X_2D[:, 1], c=label, s=10, cmap=\"coolwarm\")\n",
        "plt.colorbar(scatter, ax=ax, label=\"Categoría\")\n",
        "\n",
        "# Etiquetas\n",
        "color_ = [\"b\", \"y\"]\n",
        "for i, tex in enumerate(name_c):\n",
        "    nombre = tex[:-4]  # Quita \".wav\"\n",
        "    estudiante = \"correcto\" if label[i] == 1 else \"incorrecto\"\n",
        "    ax.text(X_2D[i, 0] * 1.025, X_2D[i, 1] * 1.025, f\"{estudiante}_{nombre}\",\n",
        "            fontsize=6, color=color_[int(label[i])])\n",
        "\n",
        "st.pyplot(fig)\n",
        "# Mostrar cantidad de puntos\n",
        "num_puntos = X_2D.shape[0]\n",
        "st.write(f\"Total de puntos en la gráfica: {num_puntos}\")\n",
        "import streamlit as st\n",
        "import numpy as np\n",
        "import matplotlib.pyplot as plt\n",
        "from sklearn.manifold import TSNE\n",
        "from sklearn.preprocessing import MinMaxScaler\n",
        "\n",
        "# Simulación de datos (Reemplazar con los datos reales que ya tienes en tu código)\n",
        "Xw_ = np.random.rand(100, 1603)  # Datos de espectro normalizados (Ejemplo)\n",
        "label = np.random.choice([1, 2], 100)  # Etiquetas de ejemplo (1: Correcto, 2: Incorrecto)\n",
        "name_c = [f\"audio_{i}.wav\" for i in range(100)]\n",
        "\n",
        "# Reducción de dimensionalidad\n",
        "tsne = TSNE(perplexity=20, n_components=2, random_state=123, learning_rate='auto', init='pca')\n",
        "X_2D = tsne.fit_transform(Xw_[:, :1603])\n",
        "\n",
        "# Número de puntos en la gráfica\n",
        "num_puntos = X_2D.shape[0]\n",
        "st.write(f\"Total de puntos en la gráfica: {num_puntos}\")\n",
        "\n",
        "# Gráfico de dispersión con etiquetas\n",
        "fig, ax = plt.subplots()\n",
        "color_ = [\"b\", \"y\"]  # Azul para correcto, Amarillo para incorrecto\n",
        "ax.scatter(X_2D[:, 0], X_2D[:, 1], c=label, s=10, cmap='viridis')\n",
        "ax.set_xlabel(\"Componente 1\")\n",
        "ax.set_ylabel(\"Componente 2\")\n",
        "ax.set_title(\"Visualización de audios en 2D\")\n",
        "\n",
        "for i, tex in enumerate(name_c):\n",
        "    nombre = tex[:-4]  # Quita la extensión \".wav\"\n",
        "    estudiante = \"correcto\" if label[i] == 1 else \"incorrecto\"\n",
        "    ax.text(X_2D[i, 0] * 1.025, X_2D[i, 1] * 1.025, f\"{estudiante}_{nombre}\", fontsize=6, color=color_[label[i]-1])\n",
        "\n",
        "st.pyplot(fig)"
      ],
      "metadata": {
        "colab": {
          "base_uri": "https://localhost:8080/"
        },
        "id": "FoMJFIYvQvi-",
        "outputId": "e3c5b820-2903-4f56-bc14-4177cf9f816a"
      },
      "execution_count": 10,
      "outputs": [
        {
          "output_type": "stream",
          "name": "stdout",
          "text": [
            "Overwriting Punto4.py\n"
          ]
        }
      ]
    },
    {
      "cell_type": "code",
      "source": [
        "token=\"2lmAC6DGxB9xF06bq6Js7K7IZQK_5T6aE4rBZBp6hDqefow8M\""
      ],
      "metadata": {
        "id": "Okd27o0ST7L1"
      },
      "execution_count": 11,
      "outputs": []
    },
    {
      "cell_type": "code",
      "source": [
        "from pyngrok import ngrok\n",
        "\n",
        "# # Set authentication token (unique per user)\n",
        "ngrok.set_auth_token(token)\n",
        "\n",
        "# # Start Streamlit server on a specific port\n",
        "!nohup streamlit run Punto4.py --server.port 5049 &\n",
        "\n",
        "# # Start ngrok tunnel to expose the Streamlit server\n",
        "ngrok_tunnel = ngrok.connect(addr='5049', proto='http', bind_tls=True)\n",
        "\n",
        "# # Print the URL of the ngrok tunnel\n",
        "print(' * Tunnel URL:', ngrok_tunnel.public_url)"
      ],
      "metadata": {
        "colab": {
          "base_uri": "https://localhost:8080/"
        },
        "id": "8omhsFgUT9M3",
        "outputId": "a317c5d8-2247-4d59-bb67-8fe74dd4b1bf"
      },
      "execution_count": 12,
      "outputs": [
        {
          "output_type": "stream",
          "name": "stdout",
          "text": [
            "nohup: appending output to 'nohup.out'\n",
            " * Tunnel URL: https://60cf-34-13-197-176.ngrok-free.app\n"
          ]
        }
      ]
    }
  ]
}