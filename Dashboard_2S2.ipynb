{
  "nbformat": 4,
  "nbformat_minor": 0,
  "metadata": {
    "colab": {
      "provenance": [],
      "include_colab_link": true
    },
    "kernelspec": {
      "name": "python3",
      "display_name": "Python 3"
    },
    "language_info": {
      "name": "python"
    }
  },
  "cells": [
    {
      "cell_type": "markdown",
      "metadata": {
        "id": "view-in-github",
        "colab_type": "text"
      },
      "source": [
        "<a href=\"https://colab.research.google.com/github/JParraArias/SignalsAndSystems2024-2/blob/main/Dashboard_2S2.ipynb\" target=\"_parent\"><img src=\"https://colab.research.google.com/assets/colab-badge.svg\" alt=\"Open In Colab\"/></a>"
      ]
    },
    {
      "cell_type": "markdown",
      "source": [
        "El siguiente bloque de código instala varias bibliotecas necesarias para el proyecto:\n",
        "\n",
        "- **`streamlit`**: Framework para crear aplicaciones web interactivas en Python.\n",
        "- **`localtunnel`** (vía `npm`): Permite exponer un puerto local a la web.\n",
        "- **`yt-dlp`**: Herramienta avanzada para descargar videos de YouTube y otras plataformas.\n",
        "- **`pyngrok`**: Facilita la creación de túneles seguros con `ngrok`, útil para exponer servicios locales.\n",
        "- **`sympy`**: Biblioteca para cálculos simbólicos en matemáticas.\n",
        "- **`soundfile`**: Permite leer y escribir archivos de audio en distintos formatos.\n",
        "- **`pytube`**: Otra biblioteca para descargar videos de YouTube.\n",
        "- **`ffmpeg`**: Software para procesamiento y conversión de archivos de audio y video.\n",
        "- **`pandas, gspread, oauth2client`**: Facilitan la manipulación de datos y la conexión con Google Sheets.\n",
        "- **`numpy, matplotlib, scipy`**: Librerías científicas para análisis numérico y visualización.\n",
        "\n",
        "Se reinstala `yt-dlp` desde su repositorio de GitHub para asegurar la versión más reciente.\n",
        "Finalmente, se instalan todas las bibliotecas necesarias en una única línea para evitar posibles conflictos de dependencias."
      ],
      "metadata": {
        "id": "xKsA9pn3gwOg"
      }
    },
    {
      "cell_type": "code",
      "source": [
        "!pip install streamlit -q\n",
        "!npm install localtunnel\n",
        "!python3 -m pip install --force-reinstall https://github.com/yt-dlp/yt-dlp/archive/master.tar.gz\n",
        "!pip install pyngrok\n",
        "!pip install sympy --upgrade\n",
        "!pip install yt-dlp\n",
        "!pip install soundfile\n",
        "!pip install pytube\n",
        "!pip install --upgrade pytube\n",
        "!apt-get install ffmpeg\n",
        "!pip install pandas gspread oauth2client\n",
        "!pip install streamlit yt-dlp soundfile numpy matplotlib scipy pandas"
      ],
      "metadata": {
        "id": "zOX7Fp60g0Iq",
        "outputId": "3a30ebb1-6ca7-4a02-acfd-694208ebeaf9",
        "colab": {
          "base_uri": "https://localhost:8080/"
        }
      },
      "execution_count": 43,
      "outputs": [
        {
          "output_type": "stream",
          "name": "stdout",
          "text": [
            "\u001b[1G\u001b[0K⠙\u001b[1G\u001b[0K⠹\u001b[1G\u001b[0K⠸\u001b[1G\u001b[0K\n",
            "up to date, audited 23 packages in 767ms\n",
            "\u001b[1G\u001b[0K⠸\u001b[1G\u001b[0K\n",
            "\u001b[1G\u001b[0K⠸\u001b[1G\u001b[0K3 packages are looking for funding\n",
            "\u001b[1G\u001b[0K⠸\u001b[1G\u001b[0K  run `npm fund` for details\n",
            "\u001b[1G\u001b[0K⠸\u001b[1G\u001b[0K\n",
            "2 \u001b[33m\u001b[1mmoderate\u001b[22m\u001b[39m severity vulnerabilities\n",
            "\n",
            "To address all issues (including breaking changes), run:\n",
            "  npm audit fix --force\n",
            "\n",
            "Run `npm audit` for details.\n",
            "\u001b[1G\u001b[0K⠼\u001b[1G\u001b[0KCollecting https://github.com/yt-dlp/yt-dlp/archive/master.tar.gz\n",
            "  Using cached https://github.com/yt-dlp/yt-dlp/archive/master.tar.gz\n",
            "  Installing build dependencies ... \u001b[?25l\u001b[?25hdone\n",
            "  Getting requirements to build wheel ... \u001b[?25l\u001b[?25hdone\n",
            "  Preparing metadata (pyproject.toml) ... \u001b[?25l\u001b[?25hdone\n",
            "Building wheels for collected packages: yt-dlp\n",
            "  Building wheel for yt-dlp (pyproject.toml) ... \u001b[?25l\u001b[?25hdone\n",
            "  Created wheel for yt-dlp: filename=yt_dlp-2025.2.19-py3-none-any.whl size=2932965 sha256=41f48a34a37f031eac8cc8f16883bc13e1e7ba8a904a366267fd180fd2940dec\n",
            "  Stored in directory: /tmp/pip-ephem-wheel-cache-95jw5paf/wheels/2d/79/97/7209650ef73114e0fe0603480da012ad3afacb9cae6b8acd9a\n",
            "Successfully built yt-dlp\n",
            "Installing collected packages: yt-dlp\n",
            "  Attempting uninstall: yt-dlp\n",
            "    Found existing installation: yt-dlp 2025.2.19\n",
            "    Uninstalling yt-dlp-2025.2.19:\n",
            "      Successfully uninstalled yt-dlp-2025.2.19\n",
            "Successfully installed yt-dlp-2025.2.19\n",
            "Requirement already satisfied: pyngrok in /usr/local/lib/python3.11/dist-packages (7.2.3)\n",
            "Requirement already satisfied: PyYAML>=5.1 in /usr/local/lib/python3.11/dist-packages (from pyngrok) (6.0.2)\n",
            "Requirement already satisfied: sympy in /usr/local/lib/python3.11/dist-packages (1.13.3)\n",
            "Requirement already satisfied: mpmath<1.4,>=1.1.0 in /usr/local/lib/python3.11/dist-packages (from sympy) (1.3.0)\n",
            "Requirement already satisfied: yt-dlp in /usr/local/lib/python3.11/dist-packages (2025.2.19)\n",
            "Requirement already satisfied: soundfile in /usr/local/lib/python3.11/dist-packages (0.13.1)\n",
            "Requirement already satisfied: cffi>=1.0 in /usr/local/lib/python3.11/dist-packages (from soundfile) (1.17.1)\n",
            "Requirement already satisfied: numpy in /usr/local/lib/python3.11/dist-packages (from soundfile) (1.26.4)\n",
            "Requirement already satisfied: pycparser in /usr/local/lib/python3.11/dist-packages (from cffi>=1.0->soundfile) (2.22)\n",
            "Requirement already satisfied: pytube in /usr/local/lib/python3.11/dist-packages (15.0.0)\n",
            "Requirement already satisfied: pytube in /usr/local/lib/python3.11/dist-packages (15.0.0)\n",
            "Reading package lists... Done\n",
            "Building dependency tree... Done\n",
            "Reading state information... Done\n",
            "ffmpeg is already the newest version (7:4.4.2-0ubuntu0.22.04.1).\n",
            "0 upgraded, 0 newly installed, 0 to remove and 21 not upgraded.\n",
            "Requirement already satisfied: pandas in /usr/local/lib/python3.11/dist-packages (2.2.2)\n",
            "Requirement already satisfied: gspread in /usr/local/lib/python3.11/dist-packages (6.1.4)\n",
            "Requirement already satisfied: oauth2client in /usr/local/lib/python3.11/dist-packages (4.1.3)\n",
            "Requirement already satisfied: numpy>=1.23.2 in /usr/local/lib/python3.11/dist-packages (from pandas) (1.26.4)\n",
            "Requirement already satisfied: python-dateutil>=2.8.2 in /usr/local/lib/python3.11/dist-packages (from pandas) (2.8.2)\n",
            "Requirement already satisfied: pytz>=2020.1 in /usr/local/lib/python3.11/dist-packages (from pandas) (2025.1)\n",
            "Requirement already satisfied: tzdata>=2022.7 in /usr/local/lib/python3.11/dist-packages (from pandas) (2025.1)\n",
            "Requirement already satisfied: google-auth>=1.12.0 in /usr/local/lib/python3.11/dist-packages (from gspread) (2.27.0)\n",
            "Requirement already satisfied: google-auth-oauthlib>=0.4.1 in /usr/local/lib/python3.11/dist-packages (from gspread) (1.2.1)\n",
            "Requirement already satisfied: httplib2>=0.9.1 in /usr/local/lib/python3.11/dist-packages (from oauth2client) (0.22.0)\n",
            "Requirement already satisfied: pyasn1>=0.1.7 in /usr/local/lib/python3.11/dist-packages (from oauth2client) (0.6.1)\n",
            "Requirement already satisfied: pyasn1-modules>=0.0.5 in /usr/local/lib/python3.11/dist-packages (from oauth2client) (0.4.1)\n",
            "Requirement already satisfied: rsa>=3.1.4 in /usr/local/lib/python3.11/dist-packages (from oauth2client) (4.9)\n",
            "Requirement already satisfied: six>=1.6.1 in /usr/local/lib/python3.11/dist-packages (from oauth2client) (1.17.0)\n",
            "Requirement already satisfied: cachetools<6.0,>=2.0.0 in /usr/local/lib/python3.11/dist-packages (from google-auth>=1.12.0->gspread) (5.5.1)\n",
            "Requirement already satisfied: requests-oauthlib>=0.7.0 in /usr/local/lib/python3.11/dist-packages (from google-auth-oauthlib>=0.4.1->gspread) (2.0.0)\n",
            "Requirement already satisfied: pyparsing!=3.0.0,!=3.0.1,!=3.0.2,!=3.0.3,<4,>=2.4.2 in /usr/local/lib/python3.11/dist-packages (from httplib2>=0.9.1->oauth2client) (3.2.1)\n",
            "Requirement already satisfied: oauthlib>=3.0.0 in /usr/local/lib/python3.11/dist-packages (from requests-oauthlib>=0.7.0->google-auth-oauthlib>=0.4.1->gspread) (3.2.2)\n",
            "Requirement already satisfied: requests>=2.0.0 in /usr/local/lib/python3.11/dist-packages (from requests-oauthlib>=0.7.0->google-auth-oauthlib>=0.4.1->gspread) (2.32.3)\n",
            "Requirement already satisfied: charset-normalizer<4,>=2 in /usr/local/lib/python3.11/dist-packages (from requests>=2.0.0->requests-oauthlib>=0.7.0->google-auth-oauthlib>=0.4.1->gspread) (3.4.1)\n",
            "Requirement already satisfied: idna<4,>=2.5 in /usr/local/lib/python3.11/dist-packages (from requests>=2.0.0->requests-oauthlib>=0.7.0->google-auth-oauthlib>=0.4.1->gspread) (3.10)\n",
            "Requirement already satisfied: urllib3<3,>=1.21.1 in /usr/local/lib/python3.11/dist-packages (from requests>=2.0.0->requests-oauthlib>=0.7.0->google-auth-oauthlib>=0.4.1->gspread) (2.3.0)\n",
            "Requirement already satisfied: certifi>=2017.4.17 in /usr/local/lib/python3.11/dist-packages (from requests>=2.0.0->requests-oauthlib>=0.7.0->google-auth-oauthlib>=0.4.1->gspread) (2025.1.31)\n",
            "Requirement already satisfied: streamlit in /usr/local/lib/python3.11/dist-packages (1.42.1)\n",
            "Requirement already satisfied: yt-dlp in /usr/local/lib/python3.11/dist-packages (2025.2.19)\n",
            "Requirement already satisfied: soundfile in /usr/local/lib/python3.11/dist-packages (0.13.1)\n",
            "Requirement already satisfied: numpy in /usr/local/lib/python3.11/dist-packages (1.26.4)\n",
            "Requirement already satisfied: matplotlib in /usr/local/lib/python3.11/dist-packages (3.10.0)\n",
            "Requirement already satisfied: scipy in /usr/local/lib/python3.11/dist-packages (1.13.1)\n",
            "Requirement already satisfied: pandas in /usr/local/lib/python3.11/dist-packages (2.2.2)\n",
            "Requirement already satisfied: altair<6,>=4.0 in /usr/local/lib/python3.11/dist-packages (from streamlit) (5.5.0)\n",
            "Requirement already satisfied: blinker<2,>=1.0.0 in /usr/local/lib/python3.11/dist-packages (from streamlit) (1.9.0)\n",
            "Requirement already satisfied: cachetools<6,>=4.0 in /usr/local/lib/python3.11/dist-packages (from streamlit) (5.5.1)\n",
            "Requirement already satisfied: click<9,>=7.0 in /usr/local/lib/python3.11/dist-packages (from streamlit) (8.1.8)\n",
            "Requirement already satisfied: packaging<25,>=20 in /usr/local/lib/python3.11/dist-packages (from streamlit) (24.2)\n",
            "Requirement already satisfied: pillow<12,>=7.1.0 in /usr/local/lib/python3.11/dist-packages (from streamlit) (11.1.0)\n",
            "Requirement already satisfied: protobuf<6,>=3.20 in /usr/local/lib/python3.11/dist-packages (from streamlit) (4.25.6)\n",
            "Requirement already satisfied: pyarrow>=7.0 in /usr/local/lib/python3.11/dist-packages (from streamlit) (17.0.0)\n",
            "Requirement already satisfied: requests<3,>=2.27 in /usr/local/lib/python3.11/dist-packages (from streamlit) (2.32.3)\n",
            "Requirement already satisfied: rich<14,>=10.14.0 in /usr/local/lib/python3.11/dist-packages (from streamlit) (13.9.4)\n",
            "Requirement already satisfied: tenacity<10,>=8.1.0 in /usr/local/lib/python3.11/dist-packages (from streamlit) (9.0.0)\n",
            "Requirement already satisfied: toml<2,>=0.10.1 in /usr/local/lib/python3.11/dist-packages (from streamlit) (0.10.2)\n",
            "Requirement already satisfied: typing-extensions<5,>=4.4.0 in /usr/local/lib/python3.11/dist-packages (from streamlit) (4.12.2)\n",
            "Requirement already satisfied: watchdog<7,>=2.1.5 in /usr/local/lib/python3.11/dist-packages (from streamlit) (6.0.0)\n",
            "Requirement already satisfied: gitpython!=3.1.19,<4,>=3.0.7 in /usr/local/lib/python3.11/dist-packages (from streamlit) (3.1.44)\n",
            "Requirement already satisfied: pydeck<1,>=0.8.0b4 in /usr/local/lib/python3.11/dist-packages (from streamlit) (0.9.1)\n",
            "Requirement already satisfied: tornado<7,>=6.0.3 in /usr/local/lib/python3.11/dist-packages (from streamlit) (6.4.2)\n",
            "Requirement already satisfied: cffi>=1.0 in /usr/local/lib/python3.11/dist-packages (from soundfile) (1.17.1)\n",
            "Requirement already satisfied: contourpy>=1.0.1 in /usr/local/lib/python3.11/dist-packages (from matplotlib) (1.3.1)\n",
            "Requirement already satisfied: cycler>=0.10 in /usr/local/lib/python3.11/dist-packages (from matplotlib) (0.12.1)\n",
            "Requirement already satisfied: fonttools>=4.22.0 in /usr/local/lib/python3.11/dist-packages (from matplotlib) (4.56.0)\n",
            "Requirement already satisfied: kiwisolver>=1.3.1 in /usr/local/lib/python3.11/dist-packages (from matplotlib) (1.4.8)\n",
            "Requirement already satisfied: pyparsing>=2.3.1 in /usr/local/lib/python3.11/dist-packages (from matplotlib) (3.2.1)\n",
            "Requirement already satisfied: python-dateutil>=2.7 in /usr/local/lib/python3.11/dist-packages (from matplotlib) (2.8.2)\n",
            "Requirement already satisfied: pytz>=2020.1 in /usr/local/lib/python3.11/dist-packages (from pandas) (2025.1)\n",
            "Requirement already satisfied: tzdata>=2022.7 in /usr/local/lib/python3.11/dist-packages (from pandas) (2025.1)\n",
            "Requirement already satisfied: jinja2 in /usr/local/lib/python3.11/dist-packages (from altair<6,>=4.0->streamlit) (3.1.5)\n",
            "Requirement already satisfied: jsonschema>=3.0 in /usr/local/lib/python3.11/dist-packages (from altair<6,>=4.0->streamlit) (4.23.0)\n",
            "Requirement already satisfied: narwhals>=1.14.2 in /usr/local/lib/python3.11/dist-packages (from altair<6,>=4.0->streamlit) (1.26.0)\n",
            "Requirement already satisfied: pycparser in /usr/local/lib/python3.11/dist-packages (from cffi>=1.0->soundfile) (2.22)\n",
            "Requirement already satisfied: gitdb<5,>=4.0.1 in /usr/local/lib/python3.11/dist-packages (from gitpython!=3.1.19,<4,>=3.0.7->streamlit) (4.0.12)\n",
            "Requirement already satisfied: six>=1.5 in /usr/local/lib/python3.11/dist-packages (from python-dateutil>=2.7->matplotlib) (1.17.0)\n",
            "Requirement already satisfied: charset-normalizer<4,>=2 in /usr/local/lib/python3.11/dist-packages (from requests<3,>=2.27->streamlit) (3.4.1)\n",
            "Requirement already satisfied: idna<4,>=2.5 in /usr/local/lib/python3.11/dist-packages (from requests<3,>=2.27->streamlit) (3.10)\n",
            "Requirement already satisfied: urllib3<3,>=1.21.1 in /usr/local/lib/python3.11/dist-packages (from requests<3,>=2.27->streamlit) (2.3.0)\n",
            "Requirement already satisfied: certifi>=2017.4.17 in /usr/local/lib/python3.11/dist-packages (from requests<3,>=2.27->streamlit) (2025.1.31)\n",
            "Requirement already satisfied: markdown-it-py>=2.2.0 in /usr/local/lib/python3.11/dist-packages (from rich<14,>=10.14.0->streamlit) (3.0.0)\n",
            "Requirement already satisfied: pygments<3.0.0,>=2.13.0 in /usr/local/lib/python3.11/dist-packages (from rich<14,>=10.14.0->streamlit) (2.18.0)\n",
            "Requirement already satisfied: smmap<6,>=3.0.1 in /usr/local/lib/python3.11/dist-packages (from gitdb<5,>=4.0.1->gitpython!=3.1.19,<4,>=3.0.7->streamlit) (5.0.2)\n",
            "Requirement already satisfied: MarkupSafe>=2.0 in /usr/local/lib/python3.11/dist-packages (from jinja2->altair<6,>=4.0->streamlit) (3.0.2)\n",
            "Requirement already satisfied: attrs>=22.2.0 in /usr/local/lib/python3.11/dist-packages (from jsonschema>=3.0->altair<6,>=4.0->streamlit) (25.1.0)\n",
            "Requirement already satisfied: jsonschema-specifications>=2023.03.6 in /usr/local/lib/python3.11/dist-packages (from jsonschema>=3.0->altair<6,>=4.0->streamlit) (2024.10.1)\n",
            "Requirement already satisfied: referencing>=0.28.4 in /usr/local/lib/python3.11/dist-packages (from jsonschema>=3.0->altair<6,>=4.0->streamlit) (0.36.2)\n",
            "Requirement already satisfied: rpds-py>=0.7.1 in /usr/local/lib/python3.11/dist-packages (from jsonschema>=3.0->altair<6,>=4.0->streamlit) (0.22.3)\n",
            "Requirement already satisfied: mdurl~=0.1 in /usr/local/lib/python3.11/dist-packages (from markdown-it-py>=2.2.0->rich<14,>=10.14.0->streamlit) (0.1.2)\n"
          ]
        }
      ]
    },
    {
      "cell_type": "code",
      "source": [
        "from pyngrok import ngrok\n",
        "\n",
        "# Detener todos los túneles activos\n",
        "ngrok.kill()\n"
      ],
      "metadata": {
        "id": "c8Ge2MM-kdML"
      },
      "execution_count": 44,
      "outputs": []
    },
    {
      "cell_type": "markdown",
      "source": [
        "#Punto 1"
      ],
      "metadata": {
        "id": "QuUHBRX7gfI8"
      }
    },
    {
      "cell_type": "code",
      "source": [
        "%%writefile Punto1.py\n",
        "import streamlit as st\n",
        "import numpy as np\n",
        "import matplotlib.pyplot as plt\n",
        "\n",
        "# Configuración inicial\n",
        "st.title(\"Análisis y Reconstrucción de Señales con Serie de Fourier\")\n",
        "\n",
        "# Parámetros de entrada\n",
        "A = st.number_input(\"Ingrese un valor entero positivo para A:\", min_value=1, value=5, step=1)\n",
        "Fo = st.number_input(\"Ingrese un valor de frecuencia positiva para Fo:\", min_value=0.1, value=1.0, step=0.1)\n",
        "\n",
        "# Definir tiempos\n",
        "ti = -1 / (2 * Fo)  # tiempo inicial\n",
        "tf = 1 / (2 * Fo)   # tiempo final\n",
        "T = tf - ti         # periodo total\n",
        "wo = 2 * np.pi / T  # frecuencia angular\n",
        "Fs = 30 * Fo  # frecuencia de muestreo\n",
        "\n",
        "# Vector de tiempo\n",
        "tv = np.arange(ti, tf, 1 / Fs)\n",
        "Nm = len(tv)\n",
        "\n",
        "# Señal de entrada\n",
        "titulo_senal = \"Señal de entrada $x(t) = |A \\cos(2\\pi F_o t)|^2$\"\n",
        "xo = abs(A * np.cos(2 * np.pi * Fo * tv))**2\n",
        "\n",
        "# Gráfica de la señal de entrada\n",
        "fig, ax = plt.subplots()\n",
        "ax.plot(tv, xo, label='$x(t)$', color='b')\n",
        "ax.set_xlabel('Tiempo [s]')\n",
        "ax.set_ylabel('$x(t)$')\n",
        "ax.set_title(titulo_senal)\n",
        "ax.grid()\n",
        "ax.legend()\n",
        "st.pyplot(fig)\n",
        "\n",
        "# Definir las bases de Fourier\n",
        "N = st.slider(\"Seleccione el número de armónicos para la reconstrucción:\", min_value=1, max_value=50, value=10)\n",
        "phin = np.zeros((len(tv), 2 * N + 1), dtype=np.complex_)\n",
        "for n in range(-N, N + 1):\n",
        "    phin[:, n + N] = np.exp(1j * n * wo * tv)\n",
        "\n",
        "# Cálculo de coeficientes de Fourier\n",
        "cn = np.zeros(2 * N + 1, dtype=np.complex_)\n",
        "nv = np.arange(-N, N + 1)\n",
        "cn[N] = (A**2) / 2  # Coeficiente DC\n",
        "cn[N + 2] = (A**2) / 4  # Armónico positivo\n",
        "cn[N - 2] = (A**2) / 4  # Armónico negativo\n",
        "\n",
        "# Gráfica del espectro de Fourier\n",
        "fig, ax = plt.subplots(2, 1, figsize=(6, 6))\n",
        "ax[0].stem(nv, abs(cn), 'r', markerfmt='ro')\n",
        "ax[0].set_xlabel('n')\n",
        "ax[0].set_ylabel('|Cn|')\n",
        "ax[0].set_title(\"Espectro de Fourier - Magnitud\")\n",
        "ax[0].grid()\n",
        "\n",
        "ax[1].stem(nv, np.angle(cn), 'r', markerfmt='ro')\n",
        "ax[1].set_xlabel('n')\n",
        "ax[1].set_ylabel('Fase (radianes)')\n",
        "ax[1].set_title(\"Espectro de Fourier - Fase\")\n",
        "ax[1].grid()\n",
        "\n",
        "st.pyplot(fig)\n",
        "\n",
        "# Reconstrucción de la señal\n",
        "Px = ((3 / 8) * A**4)  # Potencia de la señal\n",
        "er = 1 - np.sum(abs(cn)**2) / Px  # Error de reconstrucción\n",
        "xe = phin @ cn  # Señal reconstruida\n",
        "\n",
        "# Gráfica de la reconstrucción\n",
        "fig, ax = plt.subplots()\n",
        "ax.plot(tv, xo, 'r', linewidth=2, label='$x(t)$ (Original)')\n",
        "ax.plot(tv, np.real(xe), 'b--', linewidth=2, label='$x_e(t)$ (Reconstruida)')\n",
        "ax.set_xlabel('Tiempo [s]')\n",
        "ax.set_ylabel('Amplitud')\n",
        "ax.set_title(f\"Reconstrucción con {N} armónicos (Error: {100*er:.2f}%)\")\n",
        "ax.legend()\n",
        "ax.grid()\n",
        "st.pyplot(fig)\n",
        "\n",
        "st.write(\"Ajuste el número de armónicos para ver cómo cambia la reconstrucción.\")\n"
      ],
      "metadata": {
        "id": "sEXE_2wBhJyU",
        "outputId": "df894fc7-c66d-4096-8ecd-b98c59f5f2b6",
        "colab": {
          "base_uri": "https://localhost:8080/"
        }
      },
      "execution_count": 45,
      "outputs": [
        {
          "output_type": "stream",
          "name": "stdout",
          "text": [
            "Overwriting Punto1.py\n"
          ]
        }
      ]
    },
    {
      "cell_type": "code",
      "source": [
        "token=\"2mraVkMegLT3dtlJmEyHhXBq8cj_4nGk3GjYEZVfV5XAJR4be\""
      ],
      "metadata": {
        "id": "IIgeuUzthUd_"
      },
      "execution_count": 46,
      "outputs": []
    },
    {
      "cell_type": "code",
      "source": [
        "from pyngrok import ngrok\n",
        "\n",
        "# # Set authentication token (unique per user)\n",
        "ngrok.set_auth_token(token)\n",
        "\n",
        "# # Start Streamlit server on a specific port\n",
        "!nohup streamlit run Punto2.py --server.port 5029 &\n",
        "\n",
        "# # Start ngrok tunnel to expose the Streamlit server\n",
        "ngrok_tunnel = ngrok.connect(addr='5029', proto='http', bind_tls=True)\n",
        "\n",
        "# # Print the URL of the ngrok tunnel\n",
        "print(' * Tunnel URL:', ngrok_tunnel.public_url)"
      ],
      "metadata": {
        "id": "4U7vUDaVhZa3",
        "outputId": "2d5f57fb-9984-415f-a65e-a0461bc9d44a",
        "colab": {
          "base_uri": "https://localhost:8080/"
        }
      },
      "execution_count": 47,
      "outputs": [
        {
          "output_type": "stream",
          "name": "stdout",
          "text": [
            "nohup: appending output to 'nohup.out'\n",
            " * Tunnel URL: https://9fba-34-169-4-44.ngrok-free.app\n"
          ]
        }
      ]
    },
    {
      "cell_type": "markdown",
      "source": [
        "#PUNTO 2"
      ],
      "metadata": {
        "id": "arJTqCqjKirM"
      }
    },
    {
      "cell_type": "markdown",
      "source": [
        "Este script en Python implementa una aplicación web interactiva utilizando Streamlit, que permite la descarga, análisis y modulación de señales de audio. Para ello, el código ofrece dos opciones: cargar un archivo de audio local en formato MP3 o WAV, o descargar audio desde YouTube utilizando la biblioteca `yt-dlp`. Una vez obtenido el audio, la señal se visualiza y analiza en el dominio del tiempo y la frecuencia, mostrando su forma de onda y su espectro mediante la transformada de Fourier.\n",
        "\n",
        "Posteriormente, se implementa un proceso de modulación de amplitud (AM), donde la señal original se multiplica por una portadora senoidal cuya frecuencia puede ajustarse mediante un control en la interfaz. Se permite la reproducción de la señal original, la señal modulada y la señal demodulada después de ser filtrada con un filtro paso bajo Butterworth, diseñado utilizando la biblioteca `scipy.signal`.\n",
        "\n",
        "El código también emplea `soundfile` para la lectura y escritura de archivos de audio, `numpy` y `matplotlib` para el procesamiento y la graficación de las señales, y Streamlit para la creación de una interfaz interactiva. Esta aplicación es útil para visualizar los efectos de la modulación en señales de audio y comprender mejor los procesos involucrados en las telecomunicaciones.\n"
      ],
      "metadata": {
        "id": "nE3gfc67MX4r"
      }
    },
    {
      "cell_type": "code",
      "source": [
        "%%writefile Punto2.py\n",
        "import os\n",
        "import yt_dlp as youtube_dl\n",
        "import subprocess\n",
        "import soundfile as sf\n",
        "import pandas as pd\n",
        "import numpy as np\n",
        "import matplotlib.pyplot as plt\n",
        "import streamlit as st\n",
        "\n",
        "# Título de la aplicación\n",
        "st.title('Análisis y Modulación de Audio desde YouTube: Descarga, Conversión y Análisis en Streamlit')\n",
        "\n",
        "# Descripción o texto en la app\n",
        "st.write(\"Punto 3:\")\n",
        "\n",
        "# Función para descargar mp3 desde YouTube\n",
        "def download_ytvid_as_mp3(video_url, name):\n",
        "    video_info = youtube_dl.YoutubeDL().extract_info(url=video_url, download=False)\n",
        "    filename = f\"{name}.mp3\"\n",
        "    options = {\n",
        "        'format': 'bestaudio/best',\n",
        "        'keepvideo': False,\n",
        "        'outtmpl': filename,\n",
        "    }\n",
        "    with youtube_dl.YoutubeDL(options) as ydl:\n",
        "        ydl.download([video_info['webpage_url']])\n",
        "    return filename\n",
        "\n",
        "# Subir archivo Excel con enlaces a videos de YouTube\n",
        "uploaded_file = st.file_uploader(\"Sube un archivo Excel con enlaces de YouTube\", type=\"xlsx\")\n",
        "\n",
        "if uploaded_file:\n",
        "    X = pd.read_excel(uploaded_file)\n",
        "    st.write(\"Primeras filas del archivo:\")\n",
        "    st.dataframe(X.head())\n",
        "\n",
        "    # Crear carpeta para resultados\n",
        "    os.makedirs(\"results\", exist_ok=True)\n",
        "\n",
        "    # Descargar y procesar el primer video\n",
        "    n = 0  # Usamos el primer video para el ejemplo\n",
        "    name_ = f'results/{X.loc[n, \"band\"]}_{n}_{X.loc[n, \"type_num\"]}'\n",
        "    st.write(f\"Descargando video: {X.loc[n, 'band']}\")\n",
        "\n",
        "    mp3_file = download_ytvid_as_mp3(X.loc[n, 'link'], name_)\n",
        "    st.write(\"Conversión a WAV...\")\n",
        "    subprocess.call(['ffmpeg', '-y', '-i', mp3_file, f'{name_}.wav'])\n",
        "\n",
        "    # Cargar archivo WAV y mostrar algunos datos\n",
        "    wav_file = f\"{name_}.wav\"\n",
        "    x, fs = sf.read(wav_file)\n",
        "    st.write(f\"Frecuencia de muestreo: {fs} Hz\")\n",
        "    st.audio(wav_file)\n",
        "\n",
        "    # Partición del archivo de audio\n",
        "    ts = 5  # Duración del segmento en segundos\n",
        "    t_segment = np.arange(0, ts, 1/fs)\n",
        "    x_t = x[:int(ts*fs), :]  # Primer segmento de audio\n",
        "\n",
        "    st.write(\"Reproduciendo segmento de audio:\")\n",
        "    st.audio(x_t.T, sample_rate=fs)\n",
        "\n",
        "    # Generación y visualización de la señal de portadora y mensaje\n",
        "    xm = x_t[:, 0]  # Canal 1\n",
        "    Fc = 15000  # Frecuencia de portadora\n",
        "    Ac = max(abs(xm))  # Amplitud de la portadora\n",
        "    c = Ac * np.sin(2 * np.pi * Fc * t_segment)\n",
        "\n",
        "    # Graficar portadora y mensaje\n",
        "    fig, ax = plt.subplots()\n",
        "    ax.plot(t_segment, c, label='Portadora')\n",
        "    ax.plot(t_segment, xm, label='Mensaje')\n",
        "    ax.set_xlabel('Tiempo [s]')\n",
        "    ax.set_ylabel('Amplitud')\n",
        "    ax.legend()\n",
        "    st.pyplot(fig)\n",
        "\n",
        "    # Modulación AM\n",
        "    y = (1 + xm / Ac) * c\n",
        "    st.write(\"Reproduciendo señal modulada en AM:\")\n",
        "    st.audio(y, sample_rate=fs)\n",
        "\n",
        "    # Espectros de las señales\n",
        "    Xfc = np.fft.fft(c)\n",
        "    Xfm = np.fft.fft(xm)\n",
        "    Xfy = np.fft.fft(y)\n",
        "    vfre = np.fft.fftfreq(len(c), 1/fs)\n",
        "\n",
        "    # Graficar espectros\n",
        "    fig, ax = plt.subplots()\n",
        "    ax.plot(vfre, np.abs(Xfy), label='Modulada')\n",
        "    ax.plot(vfre, np.abs(Xfm), label='Mensaje')\n",
        "    ax.plot(vfre, np.abs(Xfc), label='Portadora')\n",
        "    ax.set_xlim([0, 30000])\n",
        "    ax.set_xlabel('Frecuencia [Hz]')\n",
        "    ax.set_ylabel('Magnitud')\n",
        "    ax.legend()\n",
        "    st.pyplot(fig)"
      ],
      "metadata": {
        "colab": {
          "base_uri": "https://localhost:8080/"
        },
        "id": "jkJ9QfqZKyes",
        "outputId": "3988ca43-80a2-4e53-d39a-56d02c1ec7d9"
      },
      "execution_count": 48,
      "outputs": [
        {
          "output_type": "stream",
          "name": "stdout",
          "text": [
            "Overwriting Punto2.py\n"
          ]
        }
      ]
    },
    {
      "cell_type": "markdown",
      "source": [
        "El código token=\"2mraVkMegLT3dtlJmEyHhXBq8cj_4nGk3GjYEZVfV5XAJR4be\" asigna un valor de cadena (string) a la variable token. Este token se utiliza para autenticar y autorizar la creación de la aplicación en Streamlit, permitiendo el acceso a servicios como ngrok."
      ],
      "metadata": {
        "id": "Nj5WDAdeMr30"
      }
    },
    {
      "cell_type": "code",
      "source": [
        "token=\"2mraVkMegLT3dtlJmEyHhXBq8cj_4nGk3GjYEZVfV5XAJR4be\""
      ],
      "metadata": {
        "id": "f8X4j_g_K3sV"
      },
      "execution_count": 49,
      "outputs": []
    },
    {
      "cell_type": "markdown",
      "source": [
        "Este código permite ejecutar una aplicación de Streamlit y hacerla accesible desde Internet utilizando ngrok. Primero, se autentica con ngrok mediante un token de usuario, lo que permite gestionar túneles de forma segura. Luego, se ejecuta el archivo Punto2.py en un servidor local de Streamlit en el puerto 5029, usando nohup para que siga corriendo en segundo plano. Después, se establece un túnel con ngrok, permitiendo exponer el puerto de la aplicación a Internet mediante una URL pública. Finalmente, el código imprime el enlace generado por ngrok, que se puede utilizar para acceder a la aplicación desde cualquier navegador. Esta técnica es útil para compartir dashboards interactivos sin necesidad de abrir puertos manualmente o configurar servidores en la nube."
      ],
      "metadata": {
        "id": "eEGGTKC0M90s"
      }
    },
    {
      "cell_type": "code",
      "source": [
        "from pyngrok import ngrok\n",
        "\n",
        "# # Set authentication token (unique per user)\n",
        "ngrok.set_auth_token(token)\n",
        "\n",
        "# # Start Streamlit server on a specific port\n",
        "!nohup streamlit run Punto2.py --server.port 5029 &\n",
        "\n",
        "# # Start ngrok tunnel to expose the Streamlit server\n",
        "ngrok_tunnel = ngrok.connect(addr='5029', proto='http', bind_tls=True)\n",
        "\n",
        "# # Print the URL of the ngrok tunnel\n",
        "print(' * Tunnel URL:', ngrok_tunnel.public_url)"
      ],
      "metadata": {
        "colab": {
          "base_uri": "https://localhost:8080/"
        },
        "id": "PwgCuwXQK4_m",
        "outputId": "06b09d7e-0407-4322-b36e-053bf884f8e2"
      },
      "execution_count": 50,
      "outputs": [
        {
          "output_type": "stream",
          "name": "stdout",
          "text": [
            "nohup: appending output to 'nohup.out'\n",
            " * Tunnel URL: https://20a6-34-169-4-44.ngrok-free.app\n"
          ]
        }
      ]
    },
    {
      "cell_type": "markdown",
      "source": [
        "# PUNTO 3"
      ],
      "metadata": {
        "id": "v9EWYJepNCDe"
      }
    },
    {
      "cell_type": "markdown",
      "source": [
        "Este fragmento de código instala las librerías necesarias para ejecutar una aplicación en Streamlit y facilitar su acceso remoto.\n",
        "\n",
        "- !pip install streamlit -q: Instala Streamlit, un framework en Python para crear aplicaciones web interactivas, con el argumento -q para que la instalación sea silenciosa.\n",
        "\n",
        "- !npm install localtunnel: Instala localtunnel, una herramienta que permite exponer servidores locales a Internet sin necesidad de configurar redes o abrir puertos.\n",
        "\n",
        "- !python3 -m pip install --force-reinstall https://github.com/yt-dlp/yt-dlp/archive/master.tar.gz: Descarga e instala yt-dlp directamente desde su repositorio de GitHub, asegurando una versión actualizada mediante --force-reinstall. Esta biblioteca permite descargar contenido multimedia de plataformas como YouTube.\n",
        "\n",
        "- !pip install pyngrok: Instala pyngrok, una interfaz en Python para ngrok, que\n",
        "permite crear túneles seguros para exponer servidores locales a Internet, facilitando el acceso remoto a la aplicación de Streamlit."
      ],
      "metadata": {
        "id": "VK-FFDB6N-07"
      }
    },
    {
      "cell_type": "code",
      "source": [
        "!pip install streamlit -q #instalación de librerías\n",
        "!npm install localtunnel\n",
        "!python3 -m pip install --force-reinstall https://github.com/yt-dlp/yt-dlp/archive/master.tar.gz\n",
        "!pip install pyngrok"
      ],
      "metadata": {
        "colab": {
          "base_uri": "https://localhost:8080/"
        },
        "id": "PI5txVPQNGjo",
        "outputId": "d0d12cf9-5159-4441-af42-dbd6c987105e"
      },
      "execution_count": 51,
      "outputs": [
        {
          "output_type": "stream",
          "name": "stdout",
          "text": [
            "\u001b[1G\u001b[0K⠙\u001b[1G\u001b[0K⠹\u001b[1G\u001b[0K⠸\u001b[1G\u001b[0K\n",
            "up to date, audited 23 packages in 774ms\n",
            "\u001b[1G\u001b[0K⠸\u001b[1G\u001b[0K\n",
            "\u001b[1G\u001b[0K⠸\u001b[1G\u001b[0K3 packages are looking for funding\n",
            "\u001b[1G\u001b[0K⠸\u001b[1G\u001b[0K  run `npm fund` for details\n",
            "\u001b[1G\u001b[0K⠸\u001b[1G\u001b[0K\n",
            "2 \u001b[33m\u001b[1mmoderate\u001b[22m\u001b[39m severity vulnerabilities\n",
            "\n",
            "To address all issues (including breaking changes), run:\n",
            "  npm audit fix --force\n",
            "\n",
            "Run `npm audit` for details.\n",
            "\u001b[1G\u001b[0K⠸\u001b[1G\u001b[0KCollecting https://github.com/yt-dlp/yt-dlp/archive/master.tar.gz\n",
            "  Using cached https://github.com/yt-dlp/yt-dlp/archive/master.tar.gz\n",
            "  Installing build dependencies ... \u001b[?25l\u001b[?25hdone\n",
            "  Getting requirements to build wheel ... \u001b[?25l\u001b[?25hdone\n",
            "  Preparing metadata (pyproject.toml) ... \u001b[?25l\u001b[?25hdone\n",
            "Building wheels for collected packages: yt-dlp\n",
            "  Building wheel for yt-dlp (pyproject.toml) ... \u001b[?25l\u001b[?25hdone\n",
            "  Created wheel for yt-dlp: filename=yt_dlp-2025.2.19-py3-none-any.whl size=2932965 sha256=41f48a34a37f031eac8cc8f16883bc13e1e7ba8a904a366267fd180fd2940dec\n",
            "  Stored in directory: /tmp/pip-ephem-wheel-cache-pmlp4ktp/wheels/2d/79/97/7209650ef73114e0fe0603480da012ad3afacb9cae6b8acd9a\n",
            "Successfully built yt-dlp\n",
            "Installing collected packages: yt-dlp\n",
            "  Attempting uninstall: yt-dlp\n",
            "    Found existing installation: yt-dlp 2025.2.19\n",
            "    Uninstalling yt-dlp-2025.2.19:\n",
            "      Successfully uninstalled yt-dlp-2025.2.19\n",
            "Successfully installed yt-dlp-2025.2.19\n",
            "Requirement already satisfied: pyngrok in /usr/local/lib/python3.11/dist-packages (7.2.3)\n",
            "Requirement already satisfied: PyYAML>=5.1 in /usr/local/lib/python3.11/dist-packages (from pyngrok) (6.0.2)\n"
          ]
        }
      ]
    },
    {
      "cell_type": "markdown",
      "source": [
        "Este código implementa una aplicación interactiva en Streamlit para analizar el Total Harmonic Distortion (THD) en rectificadores de onda completa con cargas resistivas y RC. Para ello, genera una señal rectificada de onda completa y calcula su Transformada Rápida de Fourier (FFT) con el fin de analizar su contenido espectral. A partir de la FFT, se calcula el THD, que mide la distorsión armónica total de la señal considerando la relación entre los armónicos superiores y el primer armónico.\n",
        "\n",
        "La aplicación permite al usuario ajustar la frecuencia de entrada de la señal, así como los valores de la resistencia (R) y la capacitancia (C) de la carga mediante deslizadores interactivos. Posteriormente, se muestran gráficos de la señal en el dominio del tiempo, su espectro de frecuencia (FFT) y los valores de THD obtenidos para cada tipo de carga. Este análisis es especialmente útil en el estudio de circuitos eléctricos y electrónicos, permitiendo evaluar el impacto de diferentes cargas en la distorsión de la señal de salida en rectificadores."
      ],
      "metadata": {
        "id": "mjJVy1jvQewO"
      }
    },
    {
      "cell_type": "code",
      "source": [
        "%%writefile Punto3.py\n",
        "import streamlit as st\n",
        "import numpy as np\n",
        "import matplotlib.pyplot as plt\n",
        "from scipy.fftpack import fft, fftfreq\n",
        "\n",
        "# Título de la aplicación\n",
        "st.title('Análisis del Total Harmonic Distortion (THD) en Rectificadores de Onda Completa con Cargas Resistivas y RC')\n",
        "\n",
        "# Parámetros del sistema\n",
        "sampling_rate = 10000  # Frecuencia de muestreo\n",
        "T = 1.0 / sampling_rate  # Intervalo de tiempo\n",
        "t = np.linspace(0, 1.0, sampling_rate)\n",
        "\n",
        "# Función para generar la señal del rectificador de onda completa\n",
        "def rectificador_onda_completa(t, f, R, C=None):\n",
        "    signal = np.abs(np.sin(2 * np.pi * f * t))\n",
        "    if C is not None and C > 0:\n",
        "        tau = R * C\n",
        "        signal = signal * np.exp(-t / tau)\n",
        "    return signal\n",
        "\n",
        "# Función para calcular la FFT\n",
        "def calcular_fft(signal, sampling_rate):\n",
        "    N = len(signal)\n",
        "    yf = fft(signal)\n",
        "    xf = fftfreq(N, 1 / sampling_rate)[:N // 2]\n",
        "    return xf, np.abs(yf[:N // 2])\n",
        "\n",
        "# Función para calcular el THD\n",
        "def calcular_thd(yf):\n",
        "    if len(yf) < 2:\n",
        "        return 0\n",
        "    V1 = yf[1]  # Primer armónico\n",
        "    harmonics = np.sqrt(np.sum(yf[2:]**2))\n",
        "    thd = harmonics / V1 if V1 > 0 else 0\n",
        "    return thd\n",
        "\n",
        "# Interfaz gráfica\n",
        "st.subheader(\"Parámetros de la simulación\")\n",
        "f = st.slider(\"Frecuencia de la señal de entrada (Hz):\", min_value=10, max_value=100, value=60)\n",
        "R = st.slider(\"Ingrese el valor de la Resistencia R (ohmios):\", min_value=0.1, max_value=100.0, value=10.0, step=0.1)\n",
        "C = st.slider(\"Ingrese el valor de la Capacitancia C (faradios):\", min_value=0.0, max_value=10.0, value=1.0, step=0.1)\n",
        "\n",
        "# Simulación\n",
        "signal_resistiva = rectificador_onda_completa(t, f, R)\n",
        "signal_rc = rectificador_onda_completa(t, f, R, C)\n",
        "\n",
        "# FFT\n",
        "xf_res, yf_res = calcular_fft(signal_resistiva, sampling_rate)\n",
        "xf_rc, yf_rc = calcular_fft(signal_rc, sampling_rate)\n",
        "\n",
        "# Calcular THD\n",
        "thd_resistiva = calcular_thd(yf_res)\n",
        "thd_rc = calcular_thd(yf_rc)\n",
        "\n",
        "# Mostrar resultados de THD\n",
        "st.write(f\"THD para carga resistiva pura: {thd_resistiva:.4f}\")\n",
        "st.write(f\"THD para carga RC: {thd_rc:.4f}\")\n",
        "\n",
        "# Graficar señales y FFT\n",
        "fig, axs = plt.subplots(2, 2, figsize=(12, 8))\n",
        "\n",
        "axs[0, 0].plot(t[:500], signal_resistiva[:500])\n",
        "axs[0, 0].set_title(\"Señal con carga resistiva pura\")\n",
        "axs[0, 0].set_xlabel(\"Tiempo [s]\")\n",
        "axs[0, 0].set_ylabel(\"Amplitud\")\n",
        "\n",
        "axs[0, 1].plot(t[:500], signal_rc[:500])\n",
        "axs[0, 1].set_title(\"Señal con carga RC\")\n",
        "axs[0, 1].set_xlabel(\"Tiempo [s]\")\n",
        "axs[0, 1].set_ylabel(\"Amplitud\")\n",
        "\n",
        "axs[1, 0].plot(xf_res, yf_res)\n",
        "axs[1, 0].set_title(\"FFT - Carga resistiva pura\")\n",
        "axs[1, 0].set_xlabel(\"Frecuencia [Hz]\")\n",
        "axs[1, 0].set_ylabel(\"Amplitud\")\n",
        "\n",
        "axs[1, 1].plot(xf_rc, yf_rc)\n",
        "axs[1, 1].set_title(\"FFT - Carga RC\")\n",
        "axs[1, 1].set_xlabel(\"Frecuencia [Hz]\")\n",
        "axs[1, 1].set_ylabel(\"Amplitud\")\n",
        "\n",
        "plt.tight_layout()\n",
        "st.pyplot(fig)\n"
      ],
      "metadata": {
        "colab": {
          "base_uri": "https://localhost:8080/"
        },
        "id": "xDQDtEmaOoSv",
        "outputId": "204b84ab-f06f-4200-cc4b-761f405cb8c7"
      },
      "execution_count": 52,
      "outputs": [
        {
          "output_type": "stream",
          "name": "stdout",
          "text": [
            "Overwriting Punto3.py\n"
          ]
        }
      ]
    },
    {
      "cell_type": "markdown",
      "source": [
        "El código token=\"2lmAC6DGxB9xF06bq6Js7K7IZQK_5T6aE4rBZBp6hDqefow8M\" asigna un valor de cadena (string) a la variable token. Este token se utiliza para autenticar y autorizar la creación de la aplicación en Streamlit, permitiendo el acceso a servicios como ngrok."
      ],
      "metadata": {
        "id": "widLZ5mjQi8A"
      }
    },
    {
      "cell_type": "code",
      "source": [
        "token=\"2mraVkMegLT3dtlJmEyHhXBq8cj_4nGk3GjYEZVfV5XAJR4be\""
      ],
      "metadata": {
        "id": "79onfynnO8EA"
      },
      "execution_count": 53,
      "outputs": []
    },
    {
      "cell_type": "markdown",
      "source": [
        "Este código permite ejecutar una aplicación de Streamlit y hacerla accesible desde Internet utilizando ngrok. Primero, se autentica con ngrok mediante un token de usuario, lo que permite gestionar túneles de forma segura. Luego, se ejecuta el archivo Punto3.py en un servidor local de Streamlit en el puerto 5039, usando nohup para que siga corriendo en segundo plano. Después, se establece un túnel con ngrok, permitiendo exponer el puerto de la aplicación a Internet mediante una URL pública. Finalmente, el código imprime el enlace generado por ngrok, que se puede utilizar para acceder a la aplicación desde cualquier navegador. Esta técnica es útil para compartir dashboards interactivos sin necesidad de abrir puertos manualmente o configurar servidores en la nube."
      ],
      "metadata": {
        "id": "LDRzTX8RQkFp"
      }
    },
    {
      "cell_type": "code",
      "source": [
        "from pyngrok import ngrok\n",
        "\n",
        "# # Set authentication token (unique per user)\n",
        "ngrok.set_auth_token(token)\n",
        "\n",
        "# # Start Streamlit server on a specific port\n",
        "!nohup streamlit run Punto3.py --server.port 5039 &\n",
        "\n",
        "# # Start ngrok tunnel to expose the Streamlit server\n",
        "ngrok_tunnel = ngrok.connect(addr='5039', proto='http', bind_tls=True)\n",
        "\n",
        "# # Print the URL of the ngrok tunnel\n",
        "print(' * Tunnel URL:', ngrok_tunnel.public_url)"
      ],
      "metadata": {
        "colab": {
          "base_uri": "https://localhost:8080/"
        },
        "id": "e-FUoQskO-ZB",
        "outputId": "1cc6d166-faef-4876-883b-aef4d9fbe514"
      },
      "execution_count": 54,
      "outputs": [
        {
          "output_type": "stream",
          "name": "stdout",
          "text": [
            "nohup: appending output to 'nohup.out'\n",
            " * Tunnel URL: https://3d92-34-169-4-44.ngrok-free.app\n"
          ]
        }
      ]
    }
  ]
}