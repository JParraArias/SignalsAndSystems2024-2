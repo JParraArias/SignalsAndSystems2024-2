{
  "nbformat": 4,
  "nbformat_minor": 0,
  "metadata": {
    "colab": {
      "provenance": [],
      "include_colab_link": true
    },
    "kernelspec": {
      "name": "python3",
      "display_name": "Python 3"
    },
    "language_info": {
      "name": "python"
    }
  },
  "cells": [
    {
      "cell_type": "markdown",
      "metadata": {
        "id": "view-in-github",
        "colab_type": "text"
      },
      "source": [
        "<a href=\"https://colab.research.google.com/github/JParraArias/SignalsAndSystems2024-2/blob/main/Modelado_de_SLITs.ipynb\" target=\"_parent\"><img src=\"https://colab.research.google.com/assets/colab-badge.svg\" alt=\"Open In Colab\"/></a>"
      ]
    },
    {
      "cell_type": "markdown",
      "source": [
        "#1. Ejercicios"
      ],
      "metadata": {
        "id": "8nJ5rZq1QoRL"
      }
    },
    {
      "cell_type": "markdown",
      "source": [
        "## 1. Encuentre la funcion de transferencia que caracteriza el sistema masa, resorte, amortiguador, presentado en la siguiente Figura (asuma condiciones iniciales cero):"
      ],
      "metadata": {
        "id": "oKfabXWMZxW6"
      }
    },
    {
      "cell_type": "markdown",
      "source": [
        "\\begin{equation}\n",
        "F_\\text{S}(t) + F_\\text{F}(t) + F_\\text{I}(t) = F_\\text{E}(t)\n",
        "\\end{equation}"
      ],
      "metadata": {
        "id": "f0URHlwuPNgL"
      }
    },
    {
      "cell_type": "markdown",
      "source": [
        "\\begin{equation}\n",
        "F_\\text{S}(t) = k y(t)\n",
        "\\end{equation}"
      ],
      "metadata": {
        "id": "zob8IJCwQYrc"
      }
    },
    {
      "cell_type": "markdown",
      "source": [
        "\\begin{equation}\n",
        "F_\\text{F}(t) = c \\frac{d y(t)}{dt}\n",
        "\\end{equation}"
      ],
      "metadata": {
        "id": "t5kYQp5nQZXD"
      }
    },
    {
      "cell_type": "markdown",
      "source": [
        "\\begin{equation}\n",
        "F_\\text{I}(t) = m \\frac{d^2 y(t)}{dt^2}\n",
        "\\end{equation}"
      ],
      "metadata": {
        "id": "pdFYPanQQeWS"
      }
    },
    {
      "cell_type": "markdown",
      "source": [
        "\\begin{equation}\n",
        "m \\frac{d^2 y(t)}{dt^2} + c \\frac{d y(t)}{dt} + k y(t) = F_\\text{E}(t)\n",
        "\\end{equation}"
      ],
      "metadata": {
        "id": "UUHQYJ4ZQgP0"
      }
    },
    {
      "cell_type": "markdown",
      "source": [
        "Ahora aplicando transformada de Laplace:"
      ],
      "metadata": {
        "id": "GxLORzQpQsI6"
      }
    },
    {
      "cell_type": "markdown",
      "source": [
        "\\begin{equation}\n",
        "\\mathcal{L} \\left\\{ \\frac{d^n y(t)}{dt^2} \\right\\} = s^n X(s)$\n",
        "\\end{equation}"
      ],
      "metadata": {
        "id": "Nz8X-BEeTPQS"
      }
    },
    {
      "cell_type": "markdown",
      "source": [
        "\\begin{equation}\n",
        "m s^2 Y(s) + c s Y(s) + kY(s)=X(s)$\n",
        "\\end{equation}"
      ],
      "metadata": {
        "id": "rcxpzFQ7SZil"
      }
    },
    {
      "cell_type": "markdown",
      "source": [
        "\\begin{equation}\n",
        "H(s) = \\frac{Y(s)}{X(s)} = \\frac{1}{m s^2 + c s + k}\n",
        "\\end{equation}\n",
        "\n",
        "\n",
        "\n"
      ],
      "metadata": {
        "id": "3iD2b4UAVLcc"
      }
    },
    {
      "cell_type": "markdown",
      "source": [
        "## 2. Posteriormente, encuentre el sistema equivalente del modelo masa, resorte, amortiguador, a partir del siguiente circuito electrico:"
      ],
      "metadata": {
        "id": "h5ELEAT5XWAK"
      }
    },
    {
      "cell_type": "markdown",
      "source": [
        "\\begin{equation}\n",
        "V_i(s) = L s I_1(s) +(I_1(s)-I_2(s)) \\frac{1}{C s}\n",
        "\\end{equation}"
      ],
      "metadata": {
        "id": "oLOGvreaYDk2"
      }
    },
    {
      "cell_type": "markdown",
      "source": [
        "\\begin{equation}\n",
        "(I_2(s)-I_1(s)) \\frac{1}{C s}+I_2(s)R=0\n",
        "\\end{equation}"
      ],
      "metadata": {
        "id": "QvKLWX3_ZhGc"
      }
    },
    {
      "cell_type": "markdown",
      "source": [
        "\\begin{equation}\n",
        "V_o(s)=RI_2(s)\n",
        "\\end{equation}"
      ],
      "metadata": {
        "id": "e7VpYtoMakTM"
      }
    },
    {
      "cell_type": "markdown",
      "source": [
        "Despejando $I_1$ en $I_2$:"
      ],
      "metadata": {
        "id": "KS_U8MU5a-3E"
      }
    },
    {
      "cell_type": "markdown",
      "source": [
        "\\begin{equation}\n",
        "\\frac{1}{C s}I_2(s)-\\frac{1}{C s}I_1(s) +I_2(s)R=0\n",
        "\\end{equation}"
      ],
      "metadata": {
        "id": "haMl0fWEbJuM"
      }
    },
    {
      "cell_type": "markdown",
      "source": [
        "\\begin{equation}\n",
        "I_1(s)=I_2(s)(1+CRs)\n",
        "\\end{equation}"
      ],
      "metadata": {
        "id": "NOJt4KPIbhaE"
      }
    },
    {
      "cell_type": "markdown",
      "source": [
        "Se reemplaza en la primera ecuacion:"
      ],
      "metadata": {
        "id": "dZfmj_V6buuU"
      }
    },
    {
      "cell_type": "markdown",
      "source": [
        "\\begin{equation}\n",
        "V_i(s)=LsI_2(s)(1+CRs)+(I_2(s)(1+CRs)-I_2(s))\\frac{1}{C s}\n",
        "\\end{equation}"
      ],
      "metadata": {
        "id": "KMF5nggQb98q"
      }
    },
    {
      "cell_type": "markdown",
      "source": [
        "\\begin{equation}\n",
        "V_i(s)=LsI_2(s)+CRLs^2I_2(s)+I_2(s)\\frac{1}{C s}+I_2(s)R-I_2(s)\\frac{1}{C s}\n",
        "\\end{equation}"
      ],
      "metadata": {
        "id": "mVcjhyifcp9b"
      }
    },
    {
      "cell_type": "markdown",
      "source": [
        "\\begin{equation}\n",
        "V_i(s)=I_2(s)(CRLs^2+Ls+R)\n",
        "\\end{equation}"
      ],
      "metadata": {
        "id": "nSVVncgPdTvD"
      }
    },
    {
      "cell_type": "markdown",
      "source": [
        "\\begin{equation}\n",
        "\\frac{I_2(s)}{V_i(s)}=\\frac{1}{CRLs^2+Ls+R}\n",
        "\\end{equation}"
      ],
      "metadata": {
        "id": "kMe3Wy7Sdt7M"
      }
    },
    {
      "cell_type": "markdown",
      "source": [
        "\\begin{equation}\n",
        "\\frac{RI_2(s)}{Vi(s)}=\\frac{V_o(s)}{V_i(s)}=\\frac{R}{CRLs^2+Ls+R}\n",
        "\\end{equation}"
      ],
      "metadata": {
        "id": "jWKcQHwweDSo"
      }
    },
    {
      "cell_type": "markdown",
      "source": [
        "\\begin{equation}\n",
        "H(s)=\\frac{V_o(s)}{V_i(s)}=\\frac{1}{CRLs^2+\\frac{L}{R} s+1}\n",
        "\\end{equation}"
      ],
      "metadata": {
        "id": "FPQX40gtea8T"
      }
    },
    {
      "cell_type": "markdown",
      "source": [
        "## 3. Proponga unos valores de m, k y c y sus equivalentes R, L y C, para simular un sistema subamortiguado, sobreamortiguado, y de amortiguamiento crítico (determine el factor de amortiguamiento, la frecuencia natural amortiguada, la frecuencia natural no amortiguada, el tiempo pico, tiempo de levantamiento y el tiempo de establecimiento en cada caso). Para cada caso, grafique el diagrama de polos y ceros, el diagrama de Bode, la respuesta impulso, respuesta escalon y respuesta rampa. Repita el proceso para modo lazo cerrado."
      ],
      "metadata": {
        "id": "kbKQ-ixDbsKT"
      }
    },
    {
      "cell_type": "code",
      "source": [
        "!pip install sympy --upgrade #actualizar sympy para usar módulo de control"
      ],
      "metadata": {
        "id": "tslnJNG7brk7",
        "outputId": "1979d723-cab6-4fc5-e14a-afe0ae61bff7",
        "colab": {
          "base_uri": "https://localhost:8080/"
        }
      },
      "execution_count": 1,
      "outputs": [
        {
          "output_type": "stream",
          "name": "stdout",
          "text": [
            "Requirement already satisfied: sympy in /usr/local/lib/python3.11/dist-packages (1.13.1)\n",
            "Collecting sympy\n",
            "  Downloading sympy-1.13.3-py3-none-any.whl.metadata (12 kB)\n",
            "Requirement already satisfied: mpmath<1.4,>=1.1.0 in /usr/local/lib/python3.11/dist-packages (from sympy) (1.3.0)\n",
            "Downloading sympy-1.13.3-py3-none-any.whl (6.2 MB)\n",
            "\u001b[2K   \u001b[90m━━━━━━━━━━━━━━━━━━━━━━━━━━━━━━━━━━━━━━━━\u001b[0m \u001b[32m6.2/6.2 MB\u001b[0m \u001b[31m24.7 MB/s\u001b[0m eta \u001b[36m0:00:00\u001b[0m\n",
            "\u001b[?25hInstalling collected packages: sympy\n",
            "  Attempting uninstall: sympy\n",
            "    Found existing installation: sympy 1.13.1\n",
            "    Uninstalling sympy-1.13.1:\n",
            "      Successfully uninstalled sympy-1.13.1\n",
            "\u001b[31mERROR: pip's dependency resolver does not currently take into account all the packages that are installed. This behaviour is the source of the following dependency conflicts.\n",
            "torch 2.5.1+cu124 requires nvidia-cublas-cu12==12.4.5.8; platform_system == \"Linux\" and platform_machine == \"x86_64\", but you have nvidia-cublas-cu12 12.5.3.2 which is incompatible.\n",
            "torch 2.5.1+cu124 requires nvidia-cuda-cupti-cu12==12.4.127; platform_system == \"Linux\" and platform_machine == \"x86_64\", but you have nvidia-cuda-cupti-cu12 12.5.82 which is incompatible.\n",
            "torch 2.5.1+cu124 requires nvidia-cuda-nvrtc-cu12==12.4.127; platform_system == \"Linux\" and platform_machine == \"x86_64\", but you have nvidia-cuda-nvrtc-cu12 12.5.82 which is incompatible.\n",
            "torch 2.5.1+cu124 requires nvidia-cuda-runtime-cu12==12.4.127; platform_system == \"Linux\" and platform_machine == \"x86_64\", but you have nvidia-cuda-runtime-cu12 12.5.82 which is incompatible.\n",
            "torch 2.5.1+cu124 requires nvidia-cudnn-cu12==9.1.0.70; platform_system == \"Linux\" and platform_machine == \"x86_64\", but you have nvidia-cudnn-cu12 9.3.0.75 which is incompatible.\n",
            "torch 2.5.1+cu124 requires nvidia-cufft-cu12==11.2.1.3; platform_system == \"Linux\" and platform_machine == \"x86_64\", but you have nvidia-cufft-cu12 11.2.3.61 which is incompatible.\n",
            "torch 2.5.1+cu124 requires nvidia-curand-cu12==10.3.5.147; platform_system == \"Linux\" and platform_machine == \"x86_64\", but you have nvidia-curand-cu12 10.3.6.82 which is incompatible.\n",
            "torch 2.5.1+cu124 requires nvidia-cusolver-cu12==11.6.1.9; platform_system == \"Linux\" and platform_machine == \"x86_64\", but you have nvidia-cusolver-cu12 11.6.3.83 which is incompatible.\n",
            "torch 2.5.1+cu124 requires nvidia-cusparse-cu12==12.3.1.170; platform_system == \"Linux\" and platform_machine == \"x86_64\", but you have nvidia-cusparse-cu12 12.5.1.3 which is incompatible.\n",
            "torch 2.5.1+cu124 requires nvidia-nvjitlink-cu12==12.4.127; platform_system == \"Linux\" and platform_machine == \"x86_64\", but you have nvidia-nvjitlink-cu12 12.5.82 which is incompatible.\n",
            "torch 2.5.1+cu124 requires sympy==1.13.1; python_version >= \"3.9\", but you have sympy 1.13.3 which is incompatible.\u001b[0m\u001b[31m\n",
            "\u001b[0mSuccessfully installed sympy-1.13.3\n"
          ]
        }
      ]
    },
    {
      "cell_type": "code",
      "source": [
        "%matplotlib inline\n",
        "import numpy as np\n",
        "import matplotlib.pyplot as plt\n",
        "\n",
        "import sympy as sym\n",
        "sym.init_printing()\n",
        "#definiri variables\n",
        "t, m, c, k = sym.symbols('t m c k', real=True,positive=True)\n",
        "s = sym.symbols('s', complex=True)"
      ],
      "metadata": {
        "id": "pjGebt_UcU8W"
      },
      "execution_count": 2,
      "outputs": []
    },
    {
      "cell_type": "markdown",
      "source": [
        "Forma canónica:\n",
        "\n",
        "\\begin{equation}\n",
        "H(s) = \\frac{1}{a_2 s^2 + a_1 s + a_0}\n",
        "\\end{equation}"
      ],
      "metadata": {
        "id": "hKcLfQG6diQy"
      }
    },
    {
      "cell_type": "markdown",
      "source": [
        "\\begin{equation}\n",
        "H(s) = K \\frac{\\omega_n^2}{s^2 + 2\\zeta \\omega_n s + \\omega_n^2}\n",
        "\\end{equation}"
      ],
      "metadata": {
        "id": "Itn1CuD3jH3C"
      }
    },
    {
      "cell_type": "code",
      "source": [
        "#forma canónica del slit\n",
        "a2 = m #CL en circuito equivalente\n",
        "a1 = c #L/R en circuito equivalente\n",
        "ao = k # 1 en circuito equivalente\n",
        "\n",
        "Ko = 1/ao #ganancia circuito forma canónica\n",
        "wn = sym.sqrt(ao/a2)\n",
        "xi = a1/(2*sym.sqrt(ao*a2))\n",
        "#función de transferencia\n",
        "H = Ko*wn**2/(s**2+2*xi*wn*s+wn**2)\n",
        "H"
      ],
      "metadata": {
        "id": "tlrYEaNYcZ04",
        "outputId": "3dfae061-7e97-445b-ad85-e1fc85b4f99c",
        "colab": {
          "base_uri": "https://localhost:8080/",
          "height": 58
        }
      },
      "execution_count": 3,
      "outputs": [
        {
          "output_type": "execute_result",
          "data": {
            "text/plain": [
              "       1        \n",
              "────────────────\n",
              "  ⎛c⋅s   k    2⎞\n",
              "m⋅⎜─── + ─ + s ⎟\n",
              "  ⎝ m    m     ⎠"
            ],
            "text/latex": "$\\displaystyle \\frac{1}{m \\left(\\frac{c s}{m} + \\frac{k}{m} + s^{2}\\right)}$"
          },
          "metadata": {},
          "execution_count": 3
        }
      ]
    },
    {
      "cell_type": "code",
      "source": [
        "#calcular polos\n",
        "p1 = -xi*wn + 1j*wn*sym.sqrt(1-xi**2)\n",
        "p2 = -xi*wn - 1j*wn*sym.sqrt(1-xi**2)\n",
        "p1"
      ],
      "metadata": {
        "id": "gWbMGEDsccMp",
        "outputId": "8444dc9e-797b-4b81-c233-3d6894470bf7",
        "colab": {
          "base_uri": "https://localhost:8080/",
          "height": 71
        }
      },
      "execution_count": 4,
      "outputs": [
        {
          "output_type": "execute_result",
          "data": {
            "text/plain": [
              "                      _____________\n",
              "                     ╱     2       \n",
              "                    ╱     c        \n",
              "        1.0⋅ⅈ⋅√k⋅  ╱   - ───── + 1 \n",
              "   c             ╲╱      4⋅k⋅m     \n",
              "- ─── + ───────────────────────────\n",
              "  2⋅m               √m             "
            ],
            "text/latex": "$\\displaystyle - \\frac{c}{2 m} + \\frac{1.0 i \\sqrt{k} \\sqrt{- \\frac{c^{2}}{4 k m} + 1}}{\\sqrt{m}}$"
          },
          "metadata": {},
          "execution_count": 4
        }
      ]
    },
    {
      "cell_type": "markdown",
      "source": [
        "Sistema subamortiguado:\n",
        "\n",
        "\\begin{equation}\n",
        "0 < \\zeta < 1\n",
        "\\end{equation}\n",
        "\n"
      ],
      "metadata": {
        "id": "U8UcPXDsjS0X"
      }
    },
    {
      "cell_type": "markdown",
      "source": [
        "\\begin{equation}\n",
        "0 < \\frac{a_1}{2\\sqrt{a_0 a_2}} < 1\n",
        "\\end{equation}"
      ],
      "metadata": {
        "id": "j_pVdowKk2ae"
      }
    },
    {
      "cell_type": "markdown",
      "source": [
        "\\begin{equation}\n",
        "0 < \\frac{c}{2\\sqrt{k m}} < 1\n",
        "\\end{equation}"
      ],
      "metadata": {
        "id": "ckEZ4H1Ak3a-"
      }
    },
    {
      "cell_type": "markdown",
      "source": [
        "Se asume:"
      ],
      "metadata": {
        "id": "ZylfxGonlhWS"
      }
    },
    {
      "cell_type": "markdown",
      "source": [
        "\\begin{equation}\n",
        "c = 1 = \\frac{L}{R}\n",
        "\\end{equation}"
      ],
      "metadata": {
        "id": "sJQevTN8k9Bo"
      }
    },
    {
      "cell_type": "markdown",
      "source": [
        "\\begin{equation}\n",
        "L = 1, \\quad R = 1\n",
        "\\end{equation}"
      ],
      "metadata": {
        "id": "q9a6cDsZk_8K"
      }
    },
    {
      "cell_type": "markdown",
      "source": [
        "\\begin{equation}\n",
        "k = 1\n",
        "\\end{equation}"
      ],
      "metadata": {
        "id": "AChaYJRTlGSd"
      }
    },
    {
      "cell_type": "markdown",
      "source": [
        "\\begin{equation}\n",
        "m = 4 = C L\n",
        "\\end{equation}"
      ],
      "metadata": {
        "id": "bFR_wCXDlKjH"
      }
    },
    {
      "cell_type": "markdown",
      "source": [
        "\\begin{equation}\n",
        "C = 4\n",
        "\\end{equation}"
      ],
      "metadata": {
        "id": "x4BwxMrulQXa"
      }
    },
    {
      "cell_type": "markdown",
      "source": [
        "\\begin{equation}\n",
        "\\zeta = \\frac{1}{4} = 0.25\n",
        "\\end{equation}"
      ],
      "metadata": {
        "id": "JNk06WPAlU5k"
      }
    },
    {
      "cell_type": "code",
      "source": [
        "#Reemplazando los valores\n",
        "mck = {m: 4.0, c: 1.0, k: 1.0}\n",
        "mck"
      ],
      "metadata": {
        "id": "ohBR12e4ceoL",
        "outputId": "35b65d76-3935-4698-bded-64a834fa7bbc",
        "colab": {
          "base_uri": "https://localhost:8080/",
          "height": 38
        }
      },
      "execution_count": 5,
      "outputs": [
        {
          "output_type": "execute_result",
          "data": {
            "text/plain": [
              "{c: 1.0, k: 1.0, m: 4.0}"
            ],
            "text/latex": "$\\displaystyle \\left\\{ c : 1.0, \\  k : 1.0, \\  m : 4.0\\right\\}$"
          },
          "metadata": {},
          "execution_count": 5
        }
      ]
    },
    {
      "cell_type": "code",
      "source": [
        "print('p1=',p1.subs(mck))\n",
        "print('p2=',p2.subs(mck))\n",
        "print('xi=',xi.subs(mck))\n",
        "print('omega_n=',wn.subs(mck))"
      ],
      "metadata": {
        "id": "7zJ9baIVcgdk",
        "outputId": "48c550b6-3710-4c70-b7b0-d3c41adf287f",
        "colab": {
          "base_uri": "https://localhost:8080/"
        }
      },
      "execution_count": 6,
      "outputs": [
        {
          "output_type": "stream",
          "name": "stdout",
          "text": [
            "p1= -0.125 + 0.484122918275927*I\n",
            "p2= -0.125 - 0.484122918275927*I\n",
            "xi= 0.250000000000000\n",
            "omega_n= 0.500000000000000\n"
          ]
        }
      ]
    },
    {
      "cell_type": "code",
      "source": [
        "#gráfica polos y ceros paquete de control de sympy\n",
        "from sympy.physics.control.lti import TransferFunction\n",
        "from sympy.physics.control.control_plots import pole_zero_plot, bode_plot, impulse_response_plot, step_response_plot\n",
        "num,den=sym.fraction(H.subs(mck))\n",
        "\n",
        "tf1 = TransferFunction(num, den, s)#numerados y denomirador función de transferencia con valores evaluados de RLC\n",
        "pole_zero_plot(tf1)"
      ],
      "metadata": {
        "id": "dNtvlhX1cipE",
        "outputId": "d6f075c8-8625-4bc7-a718-a9626755ae6d",
        "colab": {
          "base_uri": "https://localhost:8080/",
          "height": 496
        }
      },
      "execution_count": 7,
      "outputs": [
        {
          "output_type": "display_data",
          "data": {
            "text/plain": [
              "<Figure size 640x480 with 1 Axes>"
            ],
            "image/png": "[encoded data removed]"
          },
          "metadata": {}
        }
      ]
    },
    {
      "cell_type": "code",
      "source": [
        "bode_plot(tf1)"
      ],
      "metadata": {
        "id": "LkE51FBScldO",
        "outputId": "5e9ec900-d8b6-48aa-a763-70078c7cc8e6",
        "colab": {
          "base_uri": "https://localhost:8080/",
          "height": 500
        }
      },
      "execution_count": 8,
      "outputs": [
        {
          "output_type": "display_data",
          "data": {
            "text/plain": [
              "<Figure size 640x480 with 2 Axes>"
            ],
            "image/png": "[encoded data removed]"
          },
          "metadata": {}
        }
      ]
    },
    {
      "cell_type": "code",
      "source": [
        "impulse_response_plot(tf1,upper_limit=5/(xi.subs(mck)*wn.subs(mck)))"
      ],
      "metadata": {
        "id": "AVtQ0i4jcpN_",
        "outputId": "a689297e-34fc-46a4-b594-0b104dc23e54",
        "colab": {
          "base_uri": "https://localhost:8080/",
          "height": 496
        }
      },
      "execution_count": 9,
      "outputs": [
        {
          "output_type": "display_data",
          "data": {
            "text/plain": [
              "<Figure size 640x480 with 1 Axes>"
            ],
            "image/png": "[encoded data removed]"
          },
          "metadata": {}
        }
      ]
    },
    {
      "cell_type": "code",
      "source": [
        "step_response_plot(tf1,upper_limit=5/(xi.subs(mck)*wn.subs(mck)))"
      ],
      "metadata": {
        "id": "CSz9AD6EcsLR",
        "outputId": "8336303c-e95b-4acb-87d8-f5ede931df87",
        "colab": {
          "base_uri": "https://localhost:8080/",
          "height": 496
        }
      },
      "execution_count": 10,
      "outputs": [
        {
          "output_type": "display_data",
          "data": {
            "text/plain": [
              "<Figure size 640x480 with 1 Axes>"
            ],
            "image/png": "[encoded data removed]"
          },
          "metadata": {}
        }
      ]
    }
  ]
}